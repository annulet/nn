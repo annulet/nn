{
 "cells": [
  {
   "cell_type": "markdown",
   "metadata": {},
   "source": [
    "### 1 Попробуйте обучить нейронную сеть на TensorFlow 2 на любом датасете (fachion_mnist, mdb_reviews, boston_housing ). Опишите в комментарии к уроку - какой результата вы добились от нейросети? Что помогло вам улучшить ее точность?"
   ]
  },
  {
   "cell_type": "code",
   "execution_count": 1,
   "metadata": {},
   "outputs": [],
   "source": [
    "from __future__ import absolute_import, division, print_function, unicode_literals\n",
    "\n",
    "import tensorflow as tf\n",
    "\n",
    "from tensorflow import keras\n",
    "from tensorflow.keras import layers\n",
    "\n",
    "import numpy as np\n",
    "\n",
    "from sklearn.metrics import accuracy_score\n",
    "\n",
    "tf.keras.backend.clear_session()  # For easy reset of notebook state."
   ]
  },
  {
   "cell_type": "markdown",
   "metadata": {},
   "source": [
    "#### Скачиваем датасет с отзывами о фильмах"
   ]
  },
  {
   "cell_type": "code",
   "execution_count": 2,
   "metadata": {},
   "outputs": [],
   "source": [
    "imdb = tf.keras.datasets.imdb\n",
    "(x_train, y_train), (x_test, y_test) = imdb.load_data(\n",
    "    path='imdb.npz',\n",
    "    num_words=None,\n",
    "    skip_top=0,\n",
    "    maxlen=None,\n",
    "    seed=113,\n",
    "    start_char=1,\n",
    "    oov_char=2,\n",
    "    index_from=3\n",
    ")"
   ]
  },
  {
   "cell_type": "code",
   "execution_count": 3,
   "metadata": {},
   "outputs": [
    {
     "data": {
      "text/plain": [
       "(25000,)"
      ]
     },
     "execution_count": 3,
     "metadata": {},
     "output_type": "execute_result"
    }
   ],
   "source": [
    "x_train.shape"
   ]
  },
  {
   "cell_type": "code",
   "execution_count": 4,
   "metadata": {},
   "outputs": [
    {
     "data": {
      "text/plain": [
       "(218, 189, 450)"
      ]
     },
     "execution_count": 4,
     "metadata": {},
     "output_type": "execute_result"
    }
   ],
   "source": [
    "len(x_train[0]), len(x_train[1]), len(x_train[10])"
   ]
  },
  {
   "cell_type": "code",
   "execution_count": 5,
   "metadata": {},
   "outputs": [
    {
     "data": {
      "text/plain": [
       "(25000,)"
      ]
     },
     "execution_count": 5,
     "metadata": {},
     "output_type": "execute_result"
    }
   ],
   "source": [
    "y_train.shape"
   ]
  },
  {
   "cell_type": "code",
   "execution_count": 6,
   "metadata": {},
   "outputs": [
    {
     "data": {
      "text/plain": [
       "(25000,)"
      ]
     },
     "execution_count": 6,
     "metadata": {},
     "output_type": "execute_result"
    }
   ],
   "source": [
    "x_test.shape"
   ]
  },
  {
   "cell_type": "code",
   "execution_count": 7,
   "metadata": {},
   "outputs": [
    {
     "data": {
      "text/plain": [
       "array([0, 1, 1, ..., 0, 0, 0], dtype=int64)"
      ]
     },
     "execution_count": 7,
     "metadata": {},
     "output_type": "execute_result"
    }
   ],
   "source": [
    "y_test"
   ]
  },
  {
   "cell_type": "code",
   "execution_count": 8,
   "metadata": {},
   "outputs": [
    {
     "data": {
      "text/plain": [
       "(256, 256, 256)"
      ]
     },
     "execution_count": 8,
     "metadata": {},
     "output_type": "execute_result"
    }
   ],
   "source": [
    "x_train = keras.preprocessing.sequence.pad_sequences(x_train, padding='post', maxlen=256)\n",
    "x_test = keras.preprocessing.sequence.pad_sequences(x_test, padding='post', maxlen=256)\n",
    "\n",
    "len(x_train[0]), len(x_train[1]), len(x_train[10])"
   ]
  },
  {
   "cell_type": "code",
   "execution_count": 9,
   "metadata": {},
   "outputs": [
    {
     "data": {
      "text/plain": [
       "(256,)"
      ]
     },
     "execution_count": 9,
     "metadata": {},
     "output_type": "execute_result"
    }
   ],
   "source": [
    "x_train[0].shape"
   ]
  },
  {
   "cell_type": "code",
   "execution_count": 10,
   "metadata": {},
   "outputs": [
    {
     "name": "stdout",
     "output_type": "stream",
     "text": [
      "Model: \"sequential\"\n",
      "_________________________________________________________________\n",
      "Layer (type)                 Output Shape              Param #   \n",
      "=================================================================\n",
      "embedding (Embedding)        (None, None, 16)          1417392   \n",
      "_________________________________________________________________\n",
      "global_average_pooling1d (Gl (None, 16)                0         \n",
      "_________________________________________________________________\n",
      "dense (Dense)                (None, 16)                272       \n",
      "_________________________________________________________________\n",
      "dense_1 (Dense)              (None, 1)                 17        \n",
      "=================================================================\n",
      "Total params: 1,417,681\n",
      "Trainable params: 1,417,681\n",
      "Non-trainable params: 0\n",
      "_________________________________________________________________\n"
     ]
    }
   ],
   "source": [
    "vocab_size = 88587\n",
    "embedding_dim=16\n",
    "\n",
    "model = keras.Sequential([\n",
    "  layers.Embedding(vocab_size, embedding_dim),\n",
    "  layers.GlobalAveragePooling1D(),\n",
    "  layers.Dense(16, activation='relu'),\n",
    "  layers.Dense(1)\n",
    "])\n",
    "\n",
    "model.summary()"
   ]
  },
  {
   "cell_type": "markdown",
   "metadata": {},
   "source": [
    "#### Сначала построим базовую модель "
   ]
  },
  {
   "cell_type": "code",
   "execution_count": 11,
   "metadata": {},
   "outputs": [
    {
     "name": "stdout",
     "output_type": "stream",
     "text": [
      "Train on 20000 samples, validate on 5000 samples\n",
      "Epoch 1/10\n",
      "20000/20000 [==============================] - 25s 1ms/sample - loss: 0.5584 - accuracy: 0.6551 - val_loss: 0.3639 - val_accuracy: 0.8262\n",
      "Epoch 2/10\n",
      "20000/20000 [==============================] - 24s 1ms/sample - loss: 0.2683 - accuracy: 0.8923 - val_loss: 0.2798 - val_accuracy: 0.8804\n",
      "Epoch 3/10\n",
      "20000/20000 [==============================] - 24s 1ms/sample - loss: 0.1754 - accuracy: 0.9323 - val_loss: 0.2693 - val_accuracy: 0.8880\n",
      "Epoch 4/10\n",
      "20000/20000 [==============================] - 23s 1ms/sample - loss: 0.1222 - accuracy: 0.9580 - val_loss: 0.2728 - val_accuracy: 0.8954\n",
      "Epoch 5/10\n",
      "20000/20000 [==============================] - 24s 1ms/sample - loss: 0.0842 - accuracy: 0.9740 - val_loss: 0.2877 - val_accuracy: 0.8910\n",
      "Epoch 6/10\n",
      "20000/20000 [==============================] - 23s 1ms/sample - loss: 0.0586 - accuracy: 0.9836 - val_loss: 0.3100 - val_accuracy: 0.8936\n",
      "Epoch 7/10\n",
      "20000/20000 [==============================] - 24s 1ms/sample - loss: 0.0406 - accuracy: 0.9901 - val_loss: 0.3372 - val_accuracy: 0.8888\n",
      "Epoch 8/10\n",
      "20000/20000 [==============================] - 24s 1ms/sample - loss: 0.0286 - accuracy: 0.9934 - val_loss: 0.3601 - val_accuracy: 0.8860\n",
      "Epoch 9/10\n",
      "20000/20000 [==============================] - 24s 1ms/sample - loss: 0.0199 - accuracy: 0.9958 - val_loss: 0.3909 - val_accuracy: 0.8866\n",
      "Epoch 10/10\n",
      "20000/20000 [==============================] - 25s 1ms/sample - loss: 0.0134 - accuracy: 0.9973 - val_loss: 0.4220 - val_accuracy: 0.8840\n"
     ]
    }
   ],
   "source": [
    "model.compile(optimizer='adam',\n",
    "              loss=tf.keras.losses.BinaryCrossentropy(from_logits=True),\n",
    "              metrics=['accuracy'])\n",
    "\n",
    "history = model.fit(\n",
    "    x_train,\n",
    "    y_train,\n",
    "    validation_split=0.2,\n",
    "    epochs=10)"
   ]
  },
  {
   "cell_type": "code",
   "execution_count": 12,
   "metadata": {},
   "outputs": [
    {
     "data": {
      "image/png": "[encoded data removed]",
      "text/plain": [
       "<Figure size 864x648 with 1 Axes>"
      ]
     },
     "metadata": {
      "needs_background": "light"
     },
     "output_type": "display_data"
    },
    {
     "data": {
      "image/png": "[encoded data removed]",
      "text/plain": [
       "<Figure size 864x648 with 1 Axes>"
      ]
     },
     "metadata": {
      "needs_background": "light"
     },
     "output_type": "display_data"
    }
   ],
   "source": [
    "import matplotlib.pyplot as plt\n",
    "\n",
    "history_dict = history.history\n",
    "\n",
    "acc = history_dict['accuracy']\n",
    "val_acc = history_dict['val_accuracy']\n",
    "loss=history_dict['loss']\n",
    "val_loss=history_dict['val_loss']\n",
    "\n",
    "epochs = range(1, len(acc) + 1)\n",
    "\n",
    "plt.figure(figsize=(12,9))\n",
    "plt.plot(epochs, loss, 'bo', label='Training loss')\n",
    "plt.plot(epochs, val_loss, 'b', label='Validation loss')\n",
    "plt.title('Training and validation loss')\n",
    "plt.xlabel('Epochs')\n",
    "plt.ylabel('Loss')\n",
    "plt.legend()\n",
    "plt.show()\n",
    "\n",
    "plt.figure(figsize=(12,9))\n",
    "plt.plot(epochs, acc, 'bo', label='Training acc')\n",
    "plt.plot(epochs, val_acc, 'b', label='Validation acc')\n",
    "plt.title('Training and validation accuracy')\n",
    "plt.xlabel('Epochs')\n",
    "plt.ylabel('Accuracy')\n",
    "plt.legend(loc='lower right')\n",
    "plt.ylim((0.5,1))\n",
    "plt.show()"
   ]
  },
  {
   "cell_type": "code",
   "execution_count": 13,
   "metadata": {},
   "outputs": [
    {
     "name": "stdout",
     "output_type": "stream",
     "text": [
      "25000/25000 [==============================] - 2s 83us/sample - loss: 0.4889 - accuracy: 0.8601\n"
     ]
    },
    {
     "data": {
      "text/plain": [
       "[0.4889221109521389, 0.86012]"
      ]
     },
     "execution_count": 13,
     "metadata": {},
     "output_type": "execute_result"
    }
   ],
   "source": [
    "model.evaluate(\n",
    "  x_test,\n",
    "  y_test\n",
    ")"
   ]
  },
  {
   "cell_type": "markdown",
   "metadata": {},
   "source": [
    "#### Теперь попробуем стекинг трех моделей"
   ]
  },
  {
   "cell_type": "code",
   "execution_count": 14,
   "metadata": {},
   "outputs": [],
   "source": [
    "model_1 = keras.Sequential([\n",
    "  layers.Embedding(vocab_size, embedding_dim),\n",
    "  layers.GlobalAveragePooling1D(),\n",
    "  layers.Dense(16, activation='relu'),\n",
    "  layers.Dense(1)\n",
    "])\n",
    "\n",
    "model_2 = keras.Sequential([\n",
    "  layers.Embedding(vocab_size, embedding_dim),\n",
    "  layers.GlobalAveragePooling1D(),\n",
    "  layers.Dense(16, activation='relu'),\n",
    "  layers.Dense(1)\n",
    "])\n",
    "\n",
    "model_3 = keras.Sequential([\n",
    "  layers.Embedding(vocab_size, embedding_dim),\n",
    "  layers.GlobalAveragePooling1D(),\n",
    "  layers.Dense(16, activation='relu'),\n",
    "  layers.Dense(1)\n",
    "])"
   ]
  },
  {
   "cell_type": "code",
   "execution_count": 15,
   "metadata": {},
   "outputs": [],
   "source": [
    "model_1.compile(optimizer='adam',\n",
    "              loss=tf.keras.losses.BinaryCrossentropy(from_logits=True),\n",
    "              metrics=['accuracy'])\n",
    "model_2.compile(optimizer='adam',\n",
    "              loss=tf.keras.losses.BinaryCrossentropy(from_logits=True),\n",
    "              metrics=['accuracy'])\n",
    "model_3.compile(optimizer='adam',\n",
    "              loss=tf.keras.losses.BinaryCrossentropy(from_logits=True),\n",
    "              metrics=['accuracy'])"
   ]
  },
  {
   "cell_type": "code",
   "execution_count": 16,
   "metadata": {},
   "outputs": [
    {
     "name": "stdout",
     "output_type": "stream",
     "text": [
      "Train on 25000 samples\n",
      "Epoch 1/4\n",
      "25000/25000 [==============================] - 30s 1ms/sample - loss: 0.5120 - accuracy: 0.6822\n",
      "Epoch 2/4\n",
      "25000/25000 [==============================] - 29s 1ms/sample - loss: 0.2472 - accuracy: 0.8996\n",
      "Epoch 3/4\n",
      "25000/25000 [==============================] - 29s 1ms/sample - loss: 0.1682 - accuracy: 0.9374\n",
      "Epoch 4/4\n",
      "25000/25000 [==============================] - 30s 1ms/sample - loss: 0.1174 - accuracy: 0.9601\n",
      "Train on 25000 samples\n",
      "Epoch 1/5\n",
      "25000/25000 [==============================] - 31s 1ms/sample - loss: 0.5114 - accuracy: 0.6817\n",
      "Epoch 2/5\n",
      "25000/25000 [==============================] - 29s 1ms/sample - loss: 0.2473 - accuracy: 0.8996\n",
      "Epoch 3/5\n",
      "25000/25000 [==============================] - 29s 1ms/sample - loss: 0.1672 - accuracy: 0.9374\n",
      "Epoch 4/5\n",
      "25000/25000 [==============================] - 29s 1ms/sample - loss: 0.1178 - accuracy: 0.9594\n",
      "Epoch 5/5\n",
      "25000/25000 [==============================] - 29s 1ms/sample - loss: 0.0833 - accuracy: 0.9740\n",
      "Train on 25000 samples\n",
      "Epoch 1/6\n",
      "25000/25000 [==============================] - 30s 1ms/sample - loss: 0.5403 - accuracy: 0.6621\n",
      "Epoch 2/6\n",
      "25000/25000 [==============================] - 27s 1ms/sample - loss: 0.2609 - accuracy: 0.8939\n",
      "Epoch 3/6\n",
      "25000/25000 [==============================] - 29s 1ms/sample - loss: 0.1795 - accuracy: 0.9312\n",
      "Epoch 4/6\n",
      "25000/25000 [==============================] - 29s 1ms/sample - loss: 0.1293 - accuracy: 0.9546\n",
      "Epoch 5/6\n",
      "25000/25000 [==============================] - 29s 1ms/sample - loss: 0.0939 - accuracy: 0.9696\n",
      "Epoch 6/6\n",
      "25000/25000 [==============================] - 29s 1ms/sample - loss: 0.0681 - accuracy: 0.9790\n"
     ]
    }
   ],
   "source": [
    "hist1 = model_1.fit(x_train, y_train, epochs=4)\n",
    "hist2 = model_2.fit(x_train, y_train, epochs=5)\n",
    "hist3 = model_3.fit(x_train, y_train, epochs=6)"
   ]
  },
  {
   "cell_type": "code",
   "execution_count": 17,
   "metadata": {},
   "outputs": [
    {
     "data": {
      "image/png": "[encoded data removed]",
      "text/plain": [
       "<Figure size 432x288 with 1 Axes>"
      ]
     },
     "metadata": {
      "needs_background": "light"
     },
     "output_type": "display_data"
    }
   ],
   "source": [
    "plt.plot(hist1.history['accuracy'],label='model1 acc')\n",
    "plt.plot(hist2.history['accuracy'],label='model2 acc')\n",
    "plt.plot(hist3.history['accuracy'],label ='model3 acc')\n",
    "plt.legend()\n",
    "plt.show()"
   ]
  },
  {
   "cell_type": "code",
   "execution_count": 18,
   "metadata": {},
   "outputs": [],
   "source": [
    "model_1.save_weights('model1.h5')\n",
    "model_2.save_weights('model2.h5')\n",
    "model_3.save_weights('model3.h5')"
   ]
  },
  {
   "cell_type": "code",
   "execution_count": 19,
   "metadata": {},
   "outputs": [],
   "source": [
    "input1 = keras.layers.Input(shape=(256,))\n",
    "\n",
    "x1 = keras.layers.Embedding(vocab_size, embedding_dim)(input1)\n",
    "x1 = keras.layers.GlobalAveragePooling1D()(x1)\n",
    "x1 = keras.layers.Dense(16, activation='relu')(x1)\n",
    "x1 = keras.layers.Dense(1)(x1)\n",
    "\n",
    "model11 = keras.models.Model(inputs=input1, outputs=x1)"
   ]
  },
  {
   "cell_type": "code",
   "execution_count": 20,
   "metadata": {},
   "outputs": [],
   "source": [
    "x2 = keras.layers.Embedding(vocab_size, embedding_dim)(input1)\n",
    "x2 = keras.layers.GlobalAveragePooling1D()(x2)\n",
    "x2 = keras.layers.Dense(16, activation='relu')(x2)\n",
    "x2 = keras.layers.Dense(1)(x2)\n",
    "\n",
    "model22 =keras.models.Model(inputs=input1, outputs=x2)"
   ]
  },
  {
   "cell_type": "code",
   "execution_count": 21,
   "metadata": {},
   "outputs": [],
   "source": [
    "x3 = keras.layers.Embedding(vocab_size, embedding_dim)(input1)\n",
    "x3 = keras.layers.GlobalAveragePooling1D()(x3)\n",
    "x3 = keras.layers.Dense(16, activation='relu')(x3)\n",
    "x3 = keras.layers.Dense(1)(x3)\n",
    "\n",
    "model33 =keras.models.Model(inputs=input1, outputs=x3)"
   ]
  },
  {
   "cell_type": "code",
   "execution_count": 22,
   "metadata": {},
   "outputs": [],
   "source": [
    "model11.load_weights('model1.h5')\n",
    "model22.load_weights('model2.h5')\n",
    "model33.load_weights('model3.h5')\n",
    "\n",
    "out_all = keras.layers.Average()([model11.output, model22.output, model33.output])\n",
    "out_all = keras.layers.Dense(1)(out_all)\n",
    "model_all = keras.models.Model(inputs =[input1], outputs=out_all)"
   ]
  },
  {
   "cell_type": "code",
   "execution_count": 23,
   "metadata": {
    "scrolled": true
   },
   "outputs": [
    {
     "name": "stdout",
     "output_type": "stream",
     "text": [
      "Model: \"model_3\"\n",
      "__________________________________________________________________________________________________\n",
      "Layer (type)                    Output Shape         Param #     Connected to                     \n",
      "==================================================================================================\n",
      "input_1 (InputLayer)            [(None, 256)]        0                                            \n",
      "__________________________________________________________________________________________________\n",
      "embedding_4 (Embedding)         (None, 256, 16)      1417392     input_1[0][0]                    \n",
      "__________________________________________________________________________________________________\n",
      "embedding_5 (Embedding)         (None, 256, 16)      1417392     input_1[0][0]                    \n",
      "__________________________________________________________________________________________________\n",
      "embedding_6 (Embedding)         (None, 256, 16)      1417392     input_1[0][0]                    \n",
      "__________________________________________________________________________________________________\n",
      "global_average_pooling1d_4 (Glo (None, 16)           0           embedding_4[0][0]                \n",
      "__________________________________________________________________________________________________\n",
      "global_average_pooling1d_5 (Glo (None, 16)           0           embedding_5[0][0]                \n",
      "__________________________________________________________________________________________________\n",
      "global_average_pooling1d_6 (Glo (None, 16)           0           embedding_6[0][0]                \n",
      "__________________________________________________________________________________________________\n",
      "dense_8 (Dense)                 (None, 16)           272         global_average_pooling1d_4[0][0] \n",
      "__________________________________________________________________________________________________\n",
      "dense_10 (Dense)                (None, 16)           272         global_average_pooling1d_5[0][0] \n",
      "__________________________________________________________________________________________________\n",
      "dense_12 (Dense)                (None, 16)           272         global_average_pooling1d_6[0][0] \n",
      "__________________________________________________________________________________________________\n",
      "dense_9 (Dense)                 (None, 1)            17          dense_8[0][0]                    \n",
      "__________________________________________________________________________________________________\n",
      "dense_11 (Dense)                (None, 1)            17          dense_10[0][0]                   \n",
      "__________________________________________________________________________________________________\n",
      "dense_13 (Dense)                (None, 1)            17          dense_12[0][0]                   \n",
      "__________________________________________________________________________________________________\n",
      "average (Average)               (None, 1)            0           dense_9[0][0]                    \n",
      "                                                                 dense_11[0][0]                   \n",
      "                                                                 dense_13[0][0]                   \n",
      "__________________________________________________________________________________________________\n",
      "dense_14 (Dense)                (None, 1)            2           average[0][0]                    \n",
      "==================================================================================================\n",
      "Total params: 4,253,045\n",
      "Trainable params: 4,253,045\n",
      "Non-trainable params: 0\n",
      "__________________________________________________________________________________________________\n"
     ]
    }
   ],
   "source": [
    "model_all.summary()"
   ]
  },
  {
   "cell_type": "code",
   "execution_count": 24,
   "metadata": {},
   "outputs": [],
   "source": [
    "from tensorflow.keras.utils import plot_model"
   ]
  },
  {
   "cell_type": "code",
   "execution_count": 25,
   "metadata": {},
   "outputs": [
    {
     "data": {
      "image/png": "[encoded data removed]",
      "text/plain": [
       "<IPython.core.display.Image object>"
      ]
     },
     "execution_count": 25,
     "metadata": {},
     "output_type": "execute_result"
    }
   ],
   "source": [
    "plot_model(model_all)"
   ]
  },
  {
   "cell_type": "code",
   "execution_count": 26,
   "metadata": {},
   "outputs": [],
   "source": [
    "model_all.compile(optimizer='adam',\n",
    "              loss=tf.keras.losses.BinaryCrossentropy(from_logits=True),\n",
    "              metrics=['accuracy'])"
   ]
  },
  {
   "cell_type": "code",
   "execution_count": 27,
   "metadata": {},
   "outputs": [
    {
     "name": "stdout",
     "output_type": "stream",
     "text": [
      "25000/25000 [==============================] - 3s 128us/sample - loss: 0.3110 - accuracy: 0.8609\n"
     ]
    },
    {
     "data": {
      "text/plain": [
       "[0.31099341433525085, 0.86088]"
      ]
     },
     "execution_count": 27,
     "metadata": {},
     "output_type": "execute_result"
    }
   ],
   "source": [
    "model_all.evaluate(\n",
    "  x_test,\n",
    "  y_test\n",
    ")"
   ]
  },
  {
   "cell_type": "markdown",
   "metadata": {},
   "source": [
    "Результат практически не улучшился"
   ]
  },
  {
   "cell_type": "code",
   "execution_count": null,
   "metadata": {},
   "outputs": [],
   "source": []
  }
 ],
 "metadata": {
  "kernelspec": {
   "display_name": "Python 3",
   "language": "python",
   "name": "python3"
  },
  "language_info": {
   "codemirror_mode": {
    "name": "ipython",
    "version": 3
   },
   "file_extension": ".py",
   "mimetype": "text/x-python",
   "name": "python",
   "nbconvert_exporter": "python",
   "pygments_lexer": "ipython3",
   "version": "3.7.6"
  }
 },
 "nbformat": 4,
 "nbformat_minor": 4
}

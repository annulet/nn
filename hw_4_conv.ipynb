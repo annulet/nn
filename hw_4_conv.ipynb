{
  "nbformat": 4,
  "nbformat_minor": 0,
  "metadata": {
    "colab": {
      "name": "Untitled5.ipynb",
      "provenance": [],
      "authorship_tag": "ABX9TyMIaIBIP+nJSBQPY1NGr6qw",
      "include_colab_link": true
    },
    "kernelspec": {
      "name": "python3",
      "display_name": "Python 3"
    },
    "accelerator": "GPU"
  },
  "cells": [
    {
      "cell_type": "markdown",
      "metadata": {
        "id": "view-in-github",
        "colab_type": "text"
      },
      "source": [
        "<a href=\"https://colab.research.google.com/github/annulet/nn/blob/master/hw_4_conv.ipynb\" target=\"_parent\"><img src=\"https://colab.research.google.com/assets/colab-badge.svg\" alt=\"Open In Colab\"/></a>"
      ]
    },
    {
      "cell_type": "markdown",
      "metadata": {
        "id": "ce2MmLqdvzZh",
        "colab_type": "text"
      },
      "source": [
        "Вариант 1. (простой)\n",
        "\n",
        "обучить сверточную нейронную сеть на датасете fashion-mnist\n",
        "оценить рост точности при увеличении ширины сети (больше ядер)\n",
        "оценить рост точности при увеличении глубины сети (больше слоев)"
      ]
    },
    {
      "cell_type": "markdown",
      "metadata": {
        "id": "dWX-vtNJ0H6Z",
        "colab_type": "text"
      },
      "source": [
        "1. Базовая сверточная сеть"
      ]
    },
    {
      "cell_type": "code",
      "metadata": {
        "id": "uQseFWZIxCXk",
        "colab_type": "code",
        "outputId": "101b216f-d426-4bbf-c91c-2b61489a7fe2",
        "colab": {
          "base_uri": "https://localhost:8080/",
          "height": 228
        }
      },
      "source": [
        "from keras import layers \n",
        "from keras import models\n",
        "\n",
        "model = models. Sequential () \n",
        "model.add(layers.Conv2D(32, (3,3), activation='relu', input_shape=(28,28,1)))\n",
        "model.add(layers.MaxPooling2D((2,2)))\n",
        "model.add(layers.Conv2D(64, (3,3), activation='relu')) \n",
        "model.add(layers.MaxPooling2D((2,2))) \n",
        "model.add(layers.Conv2D(64, (3,3), activation='relu'))\n",
        "\n",
        "model.add(layers.Flatten())\n",
        "model.add(layers.Dense(64, activation='relu'))\n",
        "model.add(layers.Dense(10, activation='softmax'))"
      ],
      "execution_count": 1,
      "outputs": [
        {
          "output_type": "stream",
          "text": [
            "Using TensorFlow backend.\n"
          ],
          "name": "stderr"
        },
        {
          "output_type": "display_data",
          "data": {
            "text/html": [
              "<p style=\"color: red;\">\n",
              "The default version of TensorFlow in Colab will soon switch to TensorFlow 2.x.<br>\n",
              "We recommend you <a href=\"https://www.tensorflow.org/guide/migrate\" target=\"_blank\">upgrade</a> now \n",
              "or ensure your notebook will continue to use TensorFlow 1.x via the <code>%tensorflow_version 1.x</code> magic:\n",
              "<a href=\"https://colab.research.google.com/notebooks/tensorflow_version.ipynb\" target=\"_blank\">more info</a>.</p>\n"
            ],
            "text/plain": [
              "<IPython.core.display.HTML object>"
            ]
          },
          "metadata": {
            "tags": []
          }
        },
        {
          "output_type": "stream",
          "text": [
            "WARNING:tensorflow:From /usr/local/lib/python3.6/dist-packages/keras/backend/tensorflow_backend.py:66: The name tf.get_default_graph is deprecated. Please use tf.compat.v1.get_default_graph instead.\n",
            "\n",
            "WARNING:tensorflow:From /usr/local/lib/python3.6/dist-packages/keras/backend/tensorflow_backend.py:541: The name tf.placeholder is deprecated. Please use tf.compat.v1.placeholder instead.\n",
            "\n",
            "WARNING:tensorflow:From /usr/local/lib/python3.6/dist-packages/keras/backend/tensorflow_backend.py:4432: The name tf.random_uniform is deprecated. Please use tf.random.uniform instead.\n",
            "\n",
            "WARNING:tensorflow:From /usr/local/lib/python3.6/dist-packages/keras/backend/tensorflow_backend.py:4267: The name tf.nn.max_pool is deprecated. Please use tf.nn.max_pool2d instead.\n",
            "\n"
          ],
          "name": "stdout"
        }
      ]
    },
    {
      "cell_type": "code",
      "metadata": {
        "id": "OafbUW4EyTKm",
        "colab_type": "code",
        "outputId": "1602847e-b671-4a2a-8bbe-b3967595b389",
        "colab": {
          "base_uri": "https://localhost:8080/",
          "height": 454
        }
      },
      "source": [
        "model.summary()"
      ],
      "execution_count": 2,
      "outputs": [
        {
          "output_type": "stream",
          "text": [
            "Model: \"sequential_1\"\n",
            "_________________________________________________________________\n",
            "Layer (type)                 Output Shape              Param #   \n",
            "=================================================================\n",
            "conv2d_1 (Conv2D)            (None, 26, 26, 32)        320       \n",
            "_________________________________________________________________\n",
            "max_pooling2d_1 (MaxPooling2 (None, 13, 13, 32)        0         \n",
            "_________________________________________________________________\n",
            "conv2d_2 (Conv2D)            (None, 11, 11, 64)        18496     \n",
            "_________________________________________________________________\n",
            "max_pooling2d_2 (MaxPooling2 (None, 5, 5, 64)          0         \n",
            "_________________________________________________________________\n",
            "conv2d_3 (Conv2D)            (None, 3, 3, 64)          36928     \n",
            "_________________________________________________________________\n",
            "flatten_1 (Flatten)          (None, 576)               0         \n",
            "_________________________________________________________________\n",
            "dense_1 (Dense)              (None, 64)                36928     \n",
            "_________________________________________________________________\n",
            "dense_2 (Dense)              (None, 10)                650       \n",
            "=================================================================\n",
            "Total params: 93,322\n",
            "Trainable params: 93,322\n",
            "Non-trainable params: 0\n",
            "_________________________________________________________________\n"
          ],
          "name": "stdout"
        }
      ]
    },
    {
      "cell_type": "code",
      "metadata": {
        "id": "yrmwoO29vsSD",
        "colab_type": "code",
        "colab": {}
      },
      "source": [
        "from keras. datasets import fashion_mnist \n",
        "from keras.utils import to_categorical"
      ],
      "execution_count": 0,
      "outputs": []
    },
    {
      "cell_type": "code",
      "metadata": {
        "id": "GsV517NuviLU",
        "colab_type": "code",
        "outputId": "4dde71f6-6bfb-4793-b781-e73687190d82",
        "colab": {
          "base_uri": "https://localhost:8080/",
          "height": 963
        }
      },
      "source": [
        "(train_images, train_labels), (test_images, test_labels) = fashion_mnist.load_data()\n",
        "train_images = train_images.reshape ((60000,28,28,1)) \n",
        "train_images = train_images.astype('float32') / 255\n",
        "test_images = test_images.reshape ((10000,28,28,1)) \n",
        "test_images = test_images.astype('float32') / 255\n",
        "train_labels = to_categorical (train_labels) \n",
        "test_labels = to_categorical(test_labels)\n",
        "\n",
        "model.compile(optimizer='rmsprop', \n",
        "              loss='categorical_crossentropy', \n",
        "              metrics=['accuracy']\n",
        "              )\n",
        "model.fit(train_images, train_labels, epochs=10, batch_size=64)"
      ],
      "execution_count": 4,
      "outputs": [
        {
          "output_type": "stream",
          "text": [
            "Downloading data from http://fashion-mnist.s3-website.eu-central-1.amazonaws.com/train-labels-idx1-ubyte.gz\n",
            "32768/29515 [=================================] - 0s 3us/step\n",
            "Downloading data from http://fashion-mnist.s3-website.eu-central-1.amazonaws.com/train-images-idx3-ubyte.gz\n",
            "26427392/26421880 [==============================] - 2s 0us/step\n",
            "Downloading data from http://fashion-mnist.s3-website.eu-central-1.amazonaws.com/t10k-labels-idx1-ubyte.gz\n",
            "8192/5148 [===============================================] - 0s 0us/step\n",
            "Downloading data from http://fashion-mnist.s3-website.eu-central-1.amazonaws.com/t10k-images-idx3-ubyte.gz\n",
            "4423680/4422102 [==============================] - 1s 0us/step\n",
            "WARNING:tensorflow:From /usr/local/lib/python3.6/dist-packages/keras/optimizers.py:793: The name tf.train.Optimizer is deprecated. Please use tf.compat.v1.train.Optimizer instead.\n",
            "\n",
            "WARNING:tensorflow:From /usr/local/lib/python3.6/dist-packages/keras/backend/tensorflow_backend.py:3576: The name tf.log is deprecated. Please use tf.math.log instead.\n",
            "\n",
            "WARNING:tensorflow:From /tensorflow-1.15.0/python3.6/tensorflow_core/python/ops/math_grad.py:1424: where (from tensorflow.python.ops.array_ops) is deprecated and will be removed in a future version.\n",
            "Instructions for updating:\n",
            "Use tf.where in 2.0, which has the same broadcast rule as np.where\n",
            "WARNING:tensorflow:From /usr/local/lib/python3.6/dist-packages/keras/backend/tensorflow_backend.py:1033: The name tf.assign_add is deprecated. Please use tf.compat.v1.assign_add instead.\n",
            "\n",
            "WARNING:tensorflow:From /usr/local/lib/python3.6/dist-packages/keras/backend/tensorflow_backend.py:1020: The name tf.assign is deprecated. Please use tf.compat.v1.assign instead.\n",
            "\n",
            "WARNING:tensorflow:From /usr/local/lib/python3.6/dist-packages/keras/backend/tensorflow_backend.py:3005: The name tf.Session is deprecated. Please use tf.compat.v1.Session instead.\n",
            "\n",
            "Epoch 1/10\n",
            "WARNING:tensorflow:From /usr/local/lib/python3.6/dist-packages/keras/backend/tensorflow_backend.py:190: The name tf.get_default_session is deprecated. Please use tf.compat.v1.get_default_session instead.\n",
            "\n",
            "WARNING:tensorflow:From /usr/local/lib/python3.6/dist-packages/keras/backend/tensorflow_backend.py:197: The name tf.ConfigProto is deprecated. Please use tf.compat.v1.ConfigProto instead.\n",
            "\n",
            "WARNING:tensorflow:From /usr/local/lib/python3.6/dist-packages/keras/backend/tensorflow_backend.py:207: The name tf.global_variables is deprecated. Please use tf.compat.v1.global_variables instead.\n",
            "\n",
            "WARNING:tensorflow:From /usr/local/lib/python3.6/dist-packages/keras/backend/tensorflow_backend.py:216: The name tf.is_variable_initialized is deprecated. Please use tf.compat.v1.is_variable_initialized instead.\n",
            "\n",
            "WARNING:tensorflow:From /usr/local/lib/python3.6/dist-packages/keras/backend/tensorflow_backend.py:223: The name tf.variables_initializer is deprecated. Please use tf.compat.v1.variables_initializer instead.\n",
            "\n",
            "60000/60000 [==============================] - 21s 355us/step - loss: 0.5470 - acc: 0.7967\n",
            "Epoch 2/10\n",
            "60000/60000 [==============================] - 9s 149us/step - loss: 0.3365 - acc: 0.8768\n",
            "Epoch 3/10\n",
            "60000/60000 [==============================] - 9s 149us/step - loss: 0.2841 - acc: 0.8963\n",
            "Epoch 4/10\n",
            "60000/60000 [==============================] - 9s 151us/step - loss: 0.2527 - acc: 0.9069\n",
            "Epoch 5/10\n",
            "60000/60000 [==============================] - 9s 150us/step - loss: 0.2295 - acc: 0.9150\n",
            "Epoch 6/10\n",
            "60000/60000 [==============================] - 9s 149us/step - loss: 0.2117 - acc: 0.9220\n",
            "Epoch 7/10\n",
            "60000/60000 [==============================] - 9s 150us/step - loss: 0.1950 - acc: 0.9280\n",
            "Epoch 8/10\n",
            "60000/60000 [==============================] - 10s 159us/step - loss: 0.1802 - acc: 0.9337\n",
            "Epoch 9/10\n",
            "60000/60000 [==============================] - 9s 154us/step - loss: 0.1676 - acc: 0.9381\n",
            "Epoch 10/10\n",
            "60000/60000 [==============================] - 9s 153us/step - loss: 0.1550 - acc: 0.9426\n"
          ],
          "name": "stdout"
        },
        {
          "output_type": "execute_result",
          "data": {
            "text/plain": [
              "<keras.callbacks.History at 0x7f6093231b38>"
            ]
          },
          "metadata": {
            "tags": []
          },
          "execution_count": 4
        }
      ]
    },
    {
      "cell_type": "code",
      "metadata": {
        "id": "fEl1LUexy2vy",
        "colab_type": "code",
        "outputId": "fed52e67-b983-432d-cef2-144b449df077",
        "colab": {
          "base_uri": "https://localhost:8080/",
          "height": 54
        }
      },
      "source": [
        "test_loss, test_accuracy = model.evaluate(test_images, test_labels)\n",
        "test_accuracy"
      ],
      "execution_count": 5,
      "outputs": [
        {
          "output_type": "stream",
          "text": [
            "10000/10000 [==============================] - 1s 97us/step\n"
          ],
          "name": "stdout"
        },
        {
          "output_type": "execute_result",
          "data": {
            "text/plain": [
              "0.8923"
            ]
          },
          "metadata": {
            "tags": []
          },
          "execution_count": 5
        }
      ]
    },
    {
      "cell_type": "markdown",
      "metadata": {
        "id": "nHp8N7GE0ecj",
        "colab_type": "text"
      },
      "source": [
        "2. Увеличиваем число ядер"
      ]
    },
    {
      "cell_type": "code",
      "metadata": {
        "id": "IzTjuP21zQGJ",
        "colab_type": "code",
        "colab": {}
      },
      "source": [
        "model = models. Sequential () \n",
        "model.add(layers.Conv2D(64, (5,5), activation='relu', input_shape=(28,28,1)))\n",
        "model.add(layers.MaxPooling2D((2,2)))\n",
        "model.add(layers.Conv2D(128, (3,3), activation='relu')) \n",
        "model.add(layers.MaxPooling2D((2,2))) \n",
        "model.add(layers.Conv2D(256, (3,3), activation='relu'))\n",
        "\n",
        "model.add(layers.Flatten())\n",
        "model.add(layers.Dense(128, activation='relu'))\n",
        "model.add(layers.Dense(10, activation='softmax'))"
      ],
      "execution_count": 0,
      "outputs": []
    },
    {
      "cell_type": "code",
      "metadata": {
        "id": "7eNKsxbT0pPy",
        "colab_type": "code",
        "outputId": "0ff460da-7e46-4bb1-e74a-58961728553c",
        "colab": {
          "base_uri": "https://localhost:8080/",
          "height": 454
        }
      },
      "source": [
        "model.summary()"
      ],
      "execution_count": 7,
      "outputs": [
        {
          "output_type": "stream",
          "text": [
            "Model: \"sequential_2\"\n",
            "_________________________________________________________________\n",
            "Layer (type)                 Output Shape              Param #   \n",
            "=================================================================\n",
            "conv2d_4 (Conv2D)            (None, 24, 24, 64)        1664      \n",
            "_________________________________________________________________\n",
            "max_pooling2d_3 (MaxPooling2 (None, 12, 12, 64)        0         \n",
            "_________________________________________________________________\n",
            "conv2d_5 (Conv2D)            (None, 10, 10, 128)       73856     \n",
            "_________________________________________________________________\n",
            "max_pooling2d_4 (MaxPooling2 (None, 5, 5, 128)         0         \n",
            "_________________________________________________________________\n",
            "conv2d_6 (Conv2D)            (None, 3, 3, 256)         295168    \n",
            "_________________________________________________________________\n",
            "flatten_2 (Flatten)          (None, 2304)              0         \n",
            "_________________________________________________________________\n",
            "dense_3 (Dense)              (None, 128)               295040    \n",
            "_________________________________________________________________\n",
            "dense_4 (Dense)              (None, 10)                1290      \n",
            "=================================================================\n",
            "Total params: 667,018\n",
            "Trainable params: 667,018\n",
            "Non-trainable params: 0\n",
            "_________________________________________________________________\n"
          ],
          "name": "stdout"
        }
      ]
    },
    {
      "cell_type": "code",
      "metadata": {
        "id": "nIAu8_iG0tjC",
        "colab_type": "code",
        "outputId": "be84bef4-cfe5-4c7c-c235-1cbbb6b453d1",
        "colab": {
          "base_uri": "https://localhost:8080/",
          "height": 399
        }
      },
      "source": [
        "model.compile(optimizer='rmsprop', \n",
        "              loss='categorical_crossentropy', \n",
        "              metrics=['accuracy']\n",
        "              )\n",
        "model.fit(train_images, train_labels, epochs=10, batch_size=64)"
      ],
      "execution_count": 8,
      "outputs": [
        {
          "output_type": "stream",
          "text": [
            "Epoch 1/10\n",
            "60000/60000 [==============================] - 14s 235us/step - loss: 0.4666 - acc: 0.8263\n",
            "Epoch 2/10\n",
            "60000/60000 [==============================] - 13s 212us/step - loss: 0.2844 - acc: 0.8960\n",
            "Epoch 3/10\n",
            "60000/60000 [==============================] - 13s 211us/step - loss: 0.2429 - acc: 0.9104\n",
            "Epoch 4/10\n",
            "60000/60000 [==============================] - 13s 211us/step - loss: 0.2152 - acc: 0.9219\n",
            "Epoch 5/10\n",
            "60000/60000 [==============================] - 13s 211us/step - loss: 0.1974 - acc: 0.9290\n",
            "Epoch 6/10\n",
            "60000/60000 [==============================] - 13s 212us/step - loss: 0.1820 - acc: 0.9345\n",
            "Epoch 7/10\n",
            "60000/60000 [==============================] - 13s 212us/step - loss: 0.1708 - acc: 0.9396\n",
            "Epoch 8/10\n",
            "60000/60000 [==============================] - 13s 211us/step - loss: 0.1638 - acc: 0.9413\n",
            "Epoch 9/10\n",
            "60000/60000 [==============================] - 13s 213us/step - loss: 0.1583 - acc: 0.9439\n",
            "Epoch 10/10\n",
            "60000/60000 [==============================] - 13s 211us/step - loss: 0.1518 - acc: 0.9466\n"
          ],
          "name": "stdout"
        },
        {
          "output_type": "execute_result",
          "data": {
            "text/plain": [
              "<keras.callbacks.History at 0x7f605003ccf8>"
            ]
          },
          "metadata": {
            "tags": []
          },
          "execution_count": 8
        }
      ]
    },
    {
      "cell_type": "code",
      "metadata": {
        "id": "67w5tz-50ySp",
        "colab_type": "code",
        "outputId": "94a4499d-8e8d-41d3-ac8e-73dca7ca6409",
        "colab": {
          "base_uri": "https://localhost:8080/",
          "height": 54
        }
      },
      "source": [
        "test_loss, test_accuracy = model.evaluate(test_images, test_labels)\n",
        "test_accuracy"
      ],
      "execution_count": 9,
      "outputs": [
        {
          "output_type": "stream",
          "text": [
            "10000/10000 [==============================] - 1s 110us/step\n"
          ],
          "name": "stdout"
        },
        {
          "output_type": "execute_result",
          "data": {
            "text/plain": [
              "0.8968"
            ]
          },
          "metadata": {
            "tags": []
          },
          "execution_count": 9
        }
      ]
    },
    {
      "cell_type": "markdown",
      "metadata": {
        "id": "Q2gmvmXP2XR8",
        "colab_type": "text"
      },
      "source": [
        "Качество незначительно улучшилось."
      ]
    },
    {
      "cell_type": "markdown",
      "metadata": {
        "id": "TJ0B_O-s1LN1",
        "colab_type": "text"
      },
      "source": [
        "3. Увеличиваем глубину на 2 сверточных слоя"
      ]
    },
    {
      "cell_type": "code",
      "metadata": {
        "id": "COuW7PKP02M5",
        "colab_type": "code",
        "outputId": "6f37395f-4a15-4b42-a9b6-0e36a5ccb7e4",
        "colab": {
          "base_uri": "https://localhost:8080/",
          "height": 526
        }
      },
      "source": [
        "model = models. Sequential () \n",
        "model.add(layers.Conv2D(32, (3,3), activation='relu', input_shape=(28,28,1)))\n",
        "model.add(layers.MaxPooling2D((2,2)))\n",
        "model.add(layers.Conv2D(64, (3,3), activation='relu'))\n",
        "model.add(layers.Conv2D(128, (3,3), activation='relu'))\n",
        "model.add(layers.MaxPooling2D((2,2))) \n",
        "model.add(layers.Conv2D(256, (2,2), activation='relu'))\n",
        "model.add(layers.Conv2D(512, (2,2), activation='relu'))\n",
        "\n",
        "model.add(layers.Flatten())\n",
        "model.add(layers.Dense(128, activation='relu'))\n",
        "model.add(layers.Dense(10, activation='softmax'))\n",
        "\n",
        "model.summary()"
      ],
      "execution_count": 10,
      "outputs": [
        {
          "output_type": "stream",
          "text": [
            "Model: \"sequential_3\"\n",
            "_________________________________________________________________\n",
            "Layer (type)                 Output Shape              Param #   \n",
            "=================================================================\n",
            "conv2d_7 (Conv2D)            (None, 26, 26, 32)        320       \n",
            "_________________________________________________________________\n",
            "max_pooling2d_5 (MaxPooling2 (None, 13, 13, 32)        0         \n",
            "_________________________________________________________________\n",
            "conv2d_8 (Conv2D)            (None, 11, 11, 64)        18496     \n",
            "_________________________________________________________________\n",
            "conv2d_9 (Conv2D)            (None, 9, 9, 128)         73856     \n",
            "_________________________________________________________________\n",
            "max_pooling2d_6 (MaxPooling2 (None, 4, 4, 128)         0         \n",
            "_________________________________________________________________\n",
            "conv2d_10 (Conv2D)           (None, 3, 3, 256)         131328    \n",
            "_________________________________________________________________\n",
            "conv2d_11 (Conv2D)           (None, 2, 2, 512)         524800    \n",
            "_________________________________________________________________\n",
            "flatten_3 (Flatten)          (None, 2048)              0         \n",
            "_________________________________________________________________\n",
            "dense_5 (Dense)              (None, 128)               262272    \n",
            "_________________________________________________________________\n",
            "dense_6 (Dense)              (None, 10)                1290      \n",
            "=================================================================\n",
            "Total params: 1,012,362\n",
            "Trainable params: 1,012,362\n",
            "Non-trainable params: 0\n",
            "_________________________________________________________________\n"
          ],
          "name": "stdout"
        }
      ]
    },
    {
      "cell_type": "code",
      "metadata": {
        "id": "kD8vajMo1TiM",
        "colab_type": "code",
        "outputId": "3d46ab2d-6afe-4e0f-e1c0-68396b4df5ae",
        "colab": {
          "base_uri": "https://localhost:8080/",
          "height": 399
        }
      },
      "source": [
        "model.compile(optimizer='rmsprop', \n",
        "              loss='categorical_crossentropy', \n",
        "              metrics=['accuracy']\n",
        "              )\n",
        "model.fit(train_images, train_labels, epochs=10, batch_size=64)"
      ],
      "execution_count": 11,
      "outputs": [
        {
          "output_type": "stream",
          "text": [
            "Epoch 1/10\n",
            "60000/60000 [==============================] - 15s 254us/step - loss: 0.5371 - acc: 0.7992\n",
            "Epoch 2/10\n",
            "60000/60000 [==============================] - 14s 234us/step - loss: 0.3137 - acc: 0.8856\n",
            "Epoch 3/10\n",
            "60000/60000 [==============================] - 14s 235us/step - loss: 0.2730 - acc: 0.9017\n",
            "Epoch 4/10\n",
            "60000/60000 [==============================] - 14s 236us/step - loss: 0.2499 - acc: 0.9098\n",
            "Epoch 5/10\n",
            "60000/60000 [==============================] - 14s 234us/step - loss: 0.2370 - acc: 0.9162\n",
            "Epoch 6/10\n",
            "60000/60000 [==============================] - 14s 234us/step - loss: 0.2310 - acc: 0.9188\n",
            "Epoch 7/10\n",
            "60000/60000 [==============================] - 14s 234us/step - loss: 0.2280 - acc: 0.9203\n",
            "Epoch 8/10\n",
            "60000/60000 [==============================] - 14s 235us/step - loss: 0.2266 - acc: 0.9218\n",
            "Epoch 9/10\n",
            "60000/60000 [==============================] - 14s 235us/step - loss: 0.2265 - acc: 0.9208\n",
            "Epoch 10/10\n",
            "60000/60000 [==============================] - 14s 235us/step - loss: 0.2223 - acc: 0.9221\n"
          ],
          "name": "stdout"
        },
        {
          "output_type": "execute_result",
          "data": {
            "text/plain": [
              "<keras.callbacks.History at 0x7f5fffae59b0>"
            ]
          },
          "metadata": {
            "tags": []
          },
          "execution_count": 11
        }
      ]
    },
    {
      "cell_type": "code",
      "metadata": {
        "id": "iohOEKsk3Ez1",
        "colab_type": "code",
        "outputId": "2028b4b3-7033-45d3-957b-566adf7e84f3",
        "colab": {
          "base_uri": "https://localhost:8080/",
          "height": 54
        }
      },
      "source": [
        "test_loss, test_accuracy = model.evaluate(test_images, test_labels)\n",
        "test_accuracy"
      ],
      "execution_count": 12,
      "outputs": [
        {
          "output_type": "stream",
          "text": [
            "10000/10000 [==============================] - 1s 123us/step\n"
          ],
          "name": "stdout"
        },
        {
          "output_type": "execute_result",
          "data": {
            "text/plain": [
              "0.8918"
            ]
          },
          "metadata": {
            "tags": []
          },
          "execution_count": 12
        }
      ]
    },
    {
      "cell_type": "markdown",
      "metadata": {
        "id": "b1xrvLUe40K4",
        "colab_type": "text"
      },
      "source": [
        "Качество упало."
      ]
    },
    {
      "cell_type": "markdown",
      "metadata": {
        "id": "woOlE8Da6XWQ",
        "colab_type": "text"
      },
      "source": [
        "Вариант 2. (сложный)\n",
        "\n",
        "реализовать нейронную сеть в схеме AlexNet на сifar10. оценить рост точности при увеличении ширины сети (больше ядер) оценить рост точности при увеличении глубины сети (больше слоев)\n",
        "\n"
      ]
    },
    {
      "cell_type": "code",
      "metadata": {
        "id": "unnUHrk46mtv",
        "colab_type": "code",
        "colab": {}
      },
      "source": [
        "import tensorflow as tf\n",
        "import keras"
      ],
      "execution_count": 0,
      "outputs": []
    },
    {
      "cell_type": "code",
      "metadata": {
        "id": "9odzg51m3IRx",
        "colab_type": "code",
        "colab": {
          "base_uri": "https://localhost:8080/",
          "height": 54
        },
        "outputId": "0aa8e3f7-1d2e-495b-e727-780c3b58cec6"
      },
      "source": [
        "(x_train, y_train), (x_test, y_test) = tf.keras.datasets.cifar10.load_data()"
      ],
      "execution_count": 14,
      "outputs": [
        {
          "output_type": "stream",
          "text": [
            "Downloading data from https://www.cs.toronto.edu/~kriz/cifar-10-python.tar.gz\n",
            "170500096/170498071 [==============================] - 2s 0us/step\n"
          ],
          "name": "stdout"
        }
      ]
    },
    {
      "cell_type": "code",
      "metadata": {
        "id": "odJYLZ4W6PD-",
        "colab_type": "code",
        "outputId": "524e3396-8aa2-4f5c-c474-201297acc2c6",
        "colab": {
          "base_uri": "https://localhost:8080/",
          "height": 90
        }
      },
      "source": [
        "input_shape = x_train.shape[1:]\n",
        "\n",
        "x_train = x_train.astype('float32') / 255\n",
        "x_test = x_test.astype('float32') / 255\n",
        "\n",
        "print('x_train shape:', x_train.shape)\n",
        "print(x_train.shape[0], 'train samples')\n",
        "print(x_test.shape[0], 'test samples')\n",
        "print('y_train shape:', y_train.shape)"
      ],
      "execution_count": 15,
      "outputs": [
        {
          "output_type": "stream",
          "text": [
            "x_train shape: (50000, 32, 32, 3)\n",
            "50000 train samples\n",
            "10000 test samples\n",
            "y_train shape: (50000, 1)\n"
          ],
          "name": "stdout"
        }
      ]
    },
    {
      "cell_type": "code",
      "metadata": {
        "id": "aQiwpGEI6PG5",
        "colab_type": "code",
        "colab": {}
      },
      "source": [
        "num_classes = 10\n",
        "\n",
        "y_train = keras.utils.to_categorical(y_train, num_classes)\n",
        "y_test = keras.utils.to_categorical(y_test, num_classes)"
      ],
      "execution_count": 0,
      "outputs": []
    },
    {
      "cell_type": "code",
      "metadata": {
        "id": "AAKewsBS7wws",
        "colab_type": "code",
        "colab": {}
      },
      "source": [
        "from tensorflow.keras.models import Sequential\n",
        "from tensorflow.keras import models, layers\n",
        "import tensorflow.keras as keras"
      ],
      "execution_count": 0,
      "outputs": []
    },
    {
      "cell_type": "code",
      "metadata": {
        "id": "qa4Tzf4n6PKJ",
        "colab_type": "code",
        "outputId": "99933573-6435-4a41-db7e-5e70677f27a4",
        "colab": {
          "base_uri": "https://localhost:8080/",
          "height": 1000
        }
      },
      "source": [
        "model = Sequential()\n",
        "model.add(layers.Conv2D(32, kernel_size=(3,3), strides=(2, 2), \n",
        "                        activation='tanh', input_shape=(32,32,3), \n",
        "                        padding=\"same\"))\n",
        "model.add(layers.AveragePooling2D(pool_size=(3, 3), strides=(2,2), \n",
        "                                  padding='valid'))\n",
        "model.add(layers.BatchNormalization())\n",
        "model.add(layers.Conv2D(64, kernel_size=(3, 3), strides=(1, 1), \n",
        "                        activation='tanh', padding='valid'))\n",
        "model.add(layers.AveragePooling2D(pool_size=(2, 2), strides=(1, 1), \n",
        "                                  padding='valid'))\n",
        "model.add(layers.BatchNormalization())\n",
        "model.add(layers.Conv2D(120, kernel_size=(2, 2), strides=(1, 1), \n",
        "                        activation='tanh', padding='valid'))\n",
        "model.add(layers.AveragePooling2D(pool_size=(2, 2), strides=(1, 1), \n",
        "                                  padding='valid'))\n",
        "model.add(layers.Flatten())\n",
        "model.add(layers.Dense(84, activation='tanh'))\n",
        "model.add(layers.Dense(10, activation='softmax'))\n",
        "\n",
        "model.compile(loss=keras.losses.categorical_crossentropy, \n",
        "              optimizer='SGD', metrics=[\"accuracy\"])\n",
        "\n",
        "hist = model.fit(x=x_train, y=y_train, epochs=30, batch_size=128, \n",
        "                 validation_data=(x_test, y_test), verbose=1)\n",
        "\n",
        "test_score = model.evaluate(x_test, y_test)\n",
        "print(\"Test loss {:.4f}, accuracy {:.2f}%\".format(test_score[0], test_score[1] * 100))"
      ],
      "execution_count": 18,
      "outputs": [
        {
          "output_type": "stream",
          "text": [
            "WARNING:tensorflow:From /tensorflow-1.15.0/python3.6/tensorflow_core/python/ops/resource_variable_ops.py:1630: calling BaseResourceVariable.__init__ (from tensorflow.python.ops.resource_variable_ops) with constraint is deprecated and will be removed in a future version.\n",
            "Instructions for updating:\n",
            "If using Keras pass *_constraint arguments to layers.\n",
            "Train on 50000 samples, validate on 10000 samples\n",
            "Epoch 1/30\n",
            "50000/50000 [==============================] - 5s 102us/sample - loss: 1.8840 - acc: 0.3272 - val_loss: 1.8846 - val_acc: 0.3375\n",
            "Epoch 2/30\n",
            "50000/50000 [==============================] - 4s 84us/sample - loss: 1.7493 - acc: 0.3857 - val_loss: 1.7640 - val_acc: 0.3763\n",
            "Epoch 3/30\n",
            "50000/50000 [==============================] - 4s 83us/sample - loss: 1.6953 - acc: 0.4046 - val_loss: 1.7515 - val_acc: 0.3757\n",
            "Epoch 4/30\n",
            "50000/50000 [==============================] - 4s 82us/sample - loss: 1.6497 - acc: 0.4209 - val_loss: 1.6708 - val_acc: 0.4092\n",
            "Epoch 5/30\n",
            "50000/50000 [==============================] - 4s 83us/sample - loss: 1.6121 - acc: 0.4343 - val_loss: 1.6695 - val_acc: 0.4118\n",
            "Epoch 6/30\n",
            "50000/50000 [==============================] - 4s 82us/sample - loss: 1.5764 - acc: 0.4464 - val_loss: 1.5815 - val_acc: 0.4415\n",
            "Epoch 7/30\n",
            "50000/50000 [==============================] - 4s 82us/sample - loss: 1.5413 - acc: 0.4592 - val_loss: 1.5556 - val_acc: 0.4452\n",
            "Epoch 8/30\n",
            "50000/50000 [==============================] - 4s 83us/sample - loss: 1.5042 - acc: 0.4709 - val_loss: 1.6046 - val_acc: 0.4326\n",
            "Epoch 9/30\n",
            "50000/50000 [==============================] - 4s 82us/sample - loss: 1.4665 - acc: 0.4842 - val_loss: 1.4660 - val_acc: 0.4818\n",
            "Epoch 10/30\n",
            "50000/50000 [==============================] - 4s 82us/sample - loss: 1.4303 - acc: 0.4948 - val_loss: 1.5389 - val_acc: 0.4488\n",
            "Epoch 11/30\n",
            "50000/50000 [==============================] - 4s 84us/sample - loss: 1.3984 - acc: 0.5073 - val_loss: 1.5277 - val_acc: 0.4570\n",
            "Epoch 12/30\n",
            "50000/50000 [==============================] - 4s 89us/sample - loss: 1.3691 - acc: 0.5160 - val_loss: 1.4203 - val_acc: 0.4952\n",
            "Epoch 13/30\n",
            "50000/50000 [==============================] - 4s 88us/sample - loss: 1.3425 - acc: 0.5262 - val_loss: 1.3912 - val_acc: 0.5046\n",
            "Epoch 14/30\n",
            "50000/50000 [==============================] - 4s 89us/sample - loss: 1.3184 - acc: 0.5336 - val_loss: 1.3776 - val_acc: 0.5048\n",
            "Epoch 15/30\n",
            "50000/50000 [==============================] - 4s 88us/sample - loss: 1.2968 - acc: 0.5421 - val_loss: 1.3954 - val_acc: 0.5012\n",
            "Epoch 16/30\n",
            "50000/50000 [==============================] - 4s 89us/sample - loss: 1.2804 - acc: 0.5485 - val_loss: 1.3785 - val_acc: 0.5079\n",
            "Epoch 17/30\n",
            "50000/50000 [==============================] - 4s 88us/sample - loss: 1.2608 - acc: 0.5563 - val_loss: 1.3774 - val_acc: 0.5083\n",
            "Epoch 18/30\n",
            "50000/50000 [==============================] - 5s 90us/sample - loss: 1.2424 - acc: 0.5615 - val_loss: 1.3712 - val_acc: 0.5155\n",
            "Epoch 19/30\n",
            "50000/50000 [==============================] - 4s 89us/sample - loss: 1.2289 - acc: 0.5684 - val_loss: 1.3283 - val_acc: 0.5248\n",
            "Epoch 20/30\n",
            "50000/50000 [==============================] - 5s 90us/sample - loss: 1.2123 - acc: 0.5740 - val_loss: 1.4270 - val_acc: 0.5005\n",
            "Epoch 21/30\n",
            "50000/50000 [==============================] - 4s 89us/sample - loss: 1.1981 - acc: 0.5809 - val_loss: 1.3063 - val_acc: 0.5295\n",
            "Epoch 22/30\n",
            "50000/50000 [==============================] - 4s 89us/sample - loss: 1.1833 - acc: 0.5846 - val_loss: 1.2699 - val_acc: 0.5474\n",
            "Epoch 23/30\n",
            "50000/50000 [==============================] - 4s 89us/sample - loss: 1.1705 - acc: 0.5884 - val_loss: 1.2952 - val_acc: 0.5318\n",
            "Epoch 24/30\n",
            "50000/50000 [==============================] - 5s 90us/sample - loss: 1.1573 - acc: 0.5948 - val_loss: 1.2547 - val_acc: 0.5493\n",
            "Epoch 25/30\n",
            "50000/50000 [==============================] - 4s 89us/sample - loss: 1.1450 - acc: 0.5979 - val_loss: 1.3089 - val_acc: 0.5353\n",
            "Epoch 26/30\n",
            "50000/50000 [==============================] - 4s 89us/sample - loss: 1.1347 - acc: 0.6041 - val_loss: 1.2768 - val_acc: 0.5461\n",
            "Epoch 27/30\n",
            "50000/50000 [==============================] - 4s 89us/sample - loss: 1.1242 - acc: 0.6072 - val_loss: 1.2113 - val_acc: 0.5674\n",
            "Epoch 28/30\n",
            "50000/50000 [==============================] - 4s 89us/sample - loss: 1.1127 - acc: 0.6116 - val_loss: 1.2921 - val_acc: 0.5436\n",
            "Epoch 29/30\n",
            "50000/50000 [==============================] - 4s 89us/sample - loss: 1.1028 - acc: 0.6159 - val_loss: 1.3457 - val_acc: 0.5246\n",
            "Epoch 30/30\n",
            "50000/50000 [==============================] - 5s 90us/sample - loss: 1.0938 - acc: 0.6177 - val_loss: 1.2139 - val_acc: 0.5695\n",
            "10000/10000 [==============================] - 1s 129us/sample - loss: 1.2139 - acc: 0.5695\n",
            "Test loss 1.2139, accuracy 56.95%\n"
          ],
          "name": "stdout"
        }
      ]
    },
    {
      "cell_type": "markdown",
      "metadata": {
        "id": "8WCESRZW-xWw",
        "colab_type": "text"
      },
      "source": [
        "Увеличиваем число ядер"
      ]
    },
    {
      "cell_type": "code",
      "metadata": {
        "id": "6NK1r2FN6PMZ",
        "colab_type": "code",
        "outputId": "d23bc9f5-5877-4798-97be-e3dde345d4f2",
        "colab": {
          "base_uri": "https://localhost:8080/",
          "height": 1000
        }
      },
      "source": [
        "model = Sequential()\n",
        "model.add(layers.Conv2D(128, kernel_size=(3,3), strides=(2, 2), \n",
        "                        activation='tanh', input_shape=(32,32,3), \n",
        "                        padding=\"same\"))\n",
        "model.add(layers.AveragePooling2D(pool_size=(3, 3), strides=(2,2), \n",
        "                                  padding='valid'))\n",
        "model.add(layers.BatchNormalization())\n",
        "model.add(layers.Conv2D(256, kernel_size=(3, 3), strides=(1, 1), \n",
        "                        activation='tanh', padding='valid'))\n",
        "model.add(layers.AveragePooling2D(pool_size=(2, 2), strides=(1, 1), \n",
        "                                  padding='valid'))\n",
        "model.add(layers.BatchNormalization())\n",
        "model.add(layers.Conv2D(512, kernel_size=(2, 2), strides=(1, 1), \n",
        "                        activation='tanh', padding='valid'))\n",
        "model.add(layers.Flatten())\n",
        "model.add(layers.Dense(128, activation='tanh'))\n",
        "model.add(layers.Dense(10, activation='softmax'))\n",
        "\n",
        "model.compile(loss=keras.losses.categorical_crossentropy, \n",
        "              optimizer='SGD', \n",
        "              metrics=[\"accuracy\"])\n",
        "\n",
        "hist = model.fit(x=x_train, y=y_train, epochs=30, batch_size=128, \n",
        "                 validation_data=(x_test, y_test), verbose=1)\n",
        "\n",
        "test_score = model.evaluate(x_test, y_test)\n",
        "print(\"Test loss {:.4f}, accuracy {:.2f}%\".format(test_score[0], test_score[1] * 100))"
      ],
      "execution_count": 19,
      "outputs": [
        {
          "output_type": "stream",
          "text": [
            "Train on 50000 samples, validate on 10000 samples\n",
            "Epoch 1/30\n",
            "50000/50000 [==============================] - 9s 178us/sample - loss: 1.7785 - acc: 0.3755 - val_loss: 1.8977 - val_acc: 0.3223\n",
            "Epoch 2/30\n",
            "50000/50000 [==============================] - 8s 159us/sample - loss: 1.6292 - acc: 0.4344 - val_loss: 1.6350 - val_acc: 0.4314\n",
            "Epoch 3/30\n",
            "50000/50000 [==============================] - 8s 159us/sample - loss: 1.5567 - acc: 0.4638 - val_loss: 1.5979 - val_acc: 0.4409\n",
            "Epoch 4/30\n",
            "50000/50000 [==============================] - 8s 159us/sample - loss: 1.5065 - acc: 0.4799 - val_loss: 1.5357 - val_acc: 0.4725\n",
            "Epoch 5/30\n",
            "50000/50000 [==============================] - 8s 159us/sample - loss: 1.4647 - acc: 0.4961 - val_loss: 1.5692 - val_acc: 0.4566\n",
            "Epoch 6/30\n",
            "50000/50000 [==============================] - 8s 158us/sample - loss: 1.4250 - acc: 0.5114 - val_loss: 1.5377 - val_acc: 0.4705\n",
            "Epoch 7/30\n",
            "50000/50000 [==============================] - 8s 158us/sample - loss: 1.3887 - acc: 0.5240 - val_loss: 1.4714 - val_acc: 0.4962\n",
            "Epoch 8/30\n",
            "50000/50000 [==============================] - 8s 159us/sample - loss: 1.3533 - acc: 0.5352 - val_loss: 1.5166 - val_acc: 0.4730\n",
            "Epoch 9/30\n",
            "50000/50000 [==============================] - 8s 160us/sample - loss: 1.3179 - acc: 0.5482 - val_loss: 1.5768 - val_acc: 0.4624\n",
            "Epoch 10/30\n",
            "50000/50000 [==============================] - 8s 159us/sample - loss: 1.2882 - acc: 0.5611 - val_loss: 1.4280 - val_acc: 0.5061\n",
            "Epoch 11/30\n",
            "50000/50000 [==============================] - 8s 159us/sample - loss: 1.2571 - acc: 0.5697 - val_loss: 1.4607 - val_acc: 0.4979\n",
            "Epoch 12/30\n",
            "50000/50000 [==============================] - 8s 159us/sample - loss: 1.2276 - acc: 0.5798 - val_loss: 1.3613 - val_acc: 0.5282\n",
            "Epoch 13/30\n",
            "50000/50000 [==============================] - 8s 159us/sample - loss: 1.1987 - acc: 0.5903 - val_loss: 1.3324 - val_acc: 0.5350\n",
            "Epoch 14/30\n",
            "50000/50000 [==============================] - 8s 160us/sample - loss: 1.1687 - acc: 0.6010 - val_loss: 1.3141 - val_acc: 0.5401\n",
            "Epoch 15/30\n",
            "50000/50000 [==============================] - 8s 159us/sample - loss: 1.1420 - acc: 0.6103 - val_loss: 1.3167 - val_acc: 0.5425\n",
            "Epoch 16/30\n",
            "50000/50000 [==============================] - 8s 160us/sample - loss: 1.1160 - acc: 0.6180 - val_loss: 1.3236 - val_acc: 0.5421\n",
            "Epoch 17/30\n",
            "50000/50000 [==============================] - 8s 160us/sample - loss: 1.0889 - acc: 0.6266 - val_loss: 1.3169 - val_acc: 0.5378\n",
            "Epoch 18/30\n",
            "50000/50000 [==============================] - 8s 159us/sample - loss: 1.0650 - acc: 0.6363 - val_loss: 1.2858 - val_acc: 0.5542\n",
            "Epoch 19/30\n",
            "50000/50000 [==============================] - 8s 160us/sample - loss: 1.0394 - acc: 0.6443 - val_loss: 1.2690 - val_acc: 0.5617\n",
            "Epoch 20/30\n",
            "50000/50000 [==============================] - 8s 159us/sample - loss: 1.0135 - acc: 0.6552 - val_loss: 1.3283 - val_acc: 0.5383\n",
            "Epoch 21/30\n",
            "50000/50000 [==============================] - 8s 158us/sample - loss: 0.9907 - acc: 0.6609 - val_loss: 1.2568 - val_acc: 0.5578\n",
            "Epoch 22/30\n",
            "50000/50000 [==============================] - 8s 159us/sample - loss: 0.9639 - acc: 0.6730 - val_loss: 1.2418 - val_acc: 0.5668\n",
            "Epoch 23/30\n",
            "50000/50000 [==============================] - 8s 161us/sample - loss: 0.9415 - acc: 0.6781 - val_loss: 1.2549 - val_acc: 0.5623\n",
            "Epoch 24/30\n",
            "50000/50000 [==============================] - 8s 160us/sample - loss: 0.9174 - acc: 0.6889 - val_loss: 1.2347 - val_acc: 0.5751\n",
            "Epoch 25/30\n",
            "50000/50000 [==============================] - 8s 160us/sample - loss: 0.8933 - acc: 0.6988 - val_loss: 1.2725 - val_acc: 0.5609\n",
            "Epoch 26/30\n",
            "50000/50000 [==============================] - 8s 159us/sample - loss: 0.8712 - acc: 0.7066 - val_loss: 1.2363 - val_acc: 0.5703\n",
            "Epoch 27/30\n",
            "50000/50000 [==============================] - 8s 159us/sample - loss: 0.8481 - acc: 0.7156 - val_loss: 1.2424 - val_acc: 0.5724\n",
            "Epoch 28/30\n",
            "50000/50000 [==============================] - 8s 159us/sample - loss: 0.8240 - acc: 0.7242 - val_loss: 1.2579 - val_acc: 0.5713\n",
            "Epoch 29/30\n",
            "50000/50000 [==============================] - 8s 160us/sample - loss: 0.8009 - acc: 0.7294 - val_loss: 1.2332 - val_acc: 0.5784\n",
            "Epoch 30/30\n",
            "50000/50000 [==============================] - 8s 160us/sample - loss: 0.7780 - acc: 0.7407 - val_loss: 1.2493 - val_acc: 0.5759\n",
            "10000/10000 [==============================] - 2s 151us/sample - loss: 1.2493 - acc: 0.5759\n",
            "Test loss 1.2493, accuracy 57.59%\n"
          ],
          "name": "stdout"
        }
      ]
    },
    {
      "cell_type": "markdown",
      "metadata": {
        "id": "of61FEZ0Abls",
        "colab_type": "text"
      },
      "source": [
        "Увеличим количество слоев"
      ]
    },
    {
      "cell_type": "code",
      "metadata": {
        "id": "RRZnqACb6PRx",
        "colab_type": "code",
        "outputId": "904ccbb4-3700-4c89-f1d7-33544b9fbf1d",
        "colab": {
          "base_uri": "https://localhost:8080/",
          "height": 1000
        }
      },
      "source": [
        "model = Sequential()\n",
        "model.add(layers.Conv2D(128, kernel_size=(3,3), strides=(2, 2), \n",
        "                        activation='tanh', input_shape=(32,32,3), \n",
        "                        padding=\"same\"))\n",
        "model.add(layers.AveragePooling2D(pool_size=(3, 3), strides=(2, 2), \n",
        "                                  padding='valid'))\n",
        "model.add(layers.BatchNormalization())\n",
        "model.add(layers.Conv2D(256, kernel_size=(3, 3), strides=(1, 1), \n",
        "                        activation='tanh', padding='valid'))\n",
        "model.add(layers.Conv2D(256, kernel_size=(2, 2), strides=(1, 1), \n",
        "                        activation='tanh', padding='valid'))\n",
        "model.add(layers.AveragePooling2D(pool_size=(2, 2), strides=(1, 1), \n",
        "                                  padding='valid'))\n",
        "model.add(layers.BatchNormalization())\n",
        "model.add(layers.Conv2D(512, kernel_size=(2, 2), strides=(1, 1), \n",
        "                        activation='tanh', padding='valid'))\n",
        "model.add(layers.Conv2D(512, kernel_size=(2, 2), strides=(1, 1), \n",
        "                        activation='tanh', padding='valid'))\n",
        "model.add(layers.Flatten())\n",
        "model.add(layers.Dense(128, activation='tanh'))\n",
        "model.add(layers.Dense(10, activation='softmax'))\n",
        "\n",
        "model.compile(loss=keras.losses.categorical_crossentropy, \n",
        "              optimizer='SGD', metrics=[\"accuracy\"])\n",
        "\n",
        "hist = model.fit(x=x_train,y=y_train, epochs=30, batch_size=128, \n",
        "                 validation_data=(x_test, y_test), verbose=1)\n",
        "\n",
        "test_score = model.evaluate(x_test, y_test)\n",
        "print(\"Test loss {:.4f}, accuracy {:.2f}%\".format(test_score[0], test_score[1] * 100))"
      ],
      "execution_count": 20,
      "outputs": [
        {
          "output_type": "stream",
          "text": [
            "Train on 50000 samples, validate on 10000 samples\n",
            "Epoch 1/30\n",
            "50000/50000 [==============================] - 11s 226us/sample - loss: 1.7770 - acc: 0.3748 - val_loss: 1.9254 - val_acc: 0.3099\n",
            "Epoch 2/30\n",
            "50000/50000 [==============================] - 10s 196us/sample - loss: 1.6224 - acc: 0.4351 - val_loss: 1.6607 - val_acc: 0.4172\n",
            "Epoch 3/30\n",
            "50000/50000 [==============================] - 10s 195us/sample - loss: 1.5503 - acc: 0.4634 - val_loss: 1.5878 - val_acc: 0.4498\n",
            "Epoch 4/30\n",
            "50000/50000 [==============================] - 10s 196us/sample - loss: 1.4951 - acc: 0.4846 - val_loss: 1.5602 - val_acc: 0.4527\n",
            "Epoch 5/30\n",
            "50000/50000 [==============================] - 10s 196us/sample - loss: 1.4434 - acc: 0.5029 - val_loss: 1.5285 - val_acc: 0.4734\n",
            "Epoch 6/30\n",
            "50000/50000 [==============================] - 10s 196us/sample - loss: 1.4029 - acc: 0.5185 - val_loss: 1.4836 - val_acc: 0.4823\n",
            "Epoch 7/30\n",
            "50000/50000 [==============================] - 10s 196us/sample - loss: 1.3574 - acc: 0.5322 - val_loss: 1.4292 - val_acc: 0.5030\n",
            "Epoch 8/30\n",
            "50000/50000 [==============================] - 10s 196us/sample - loss: 1.3212 - acc: 0.5459 - val_loss: 1.5140 - val_acc: 0.4781\n",
            "Epoch 9/30\n",
            "50000/50000 [==============================] - 10s 195us/sample - loss: 1.2799 - acc: 0.5603 - val_loss: 1.3894 - val_acc: 0.5195\n",
            "Epoch 10/30\n",
            "50000/50000 [==============================] - 10s 196us/sample - loss: 1.2424 - acc: 0.5724 - val_loss: 1.3594 - val_acc: 0.5266\n",
            "Epoch 11/30\n",
            "50000/50000 [==============================] - 10s 195us/sample - loss: 1.2043 - acc: 0.5860 - val_loss: 1.3290 - val_acc: 0.5373\n",
            "Epoch 12/30\n",
            "50000/50000 [==============================] - 10s 196us/sample - loss: 1.1692 - acc: 0.5973 - val_loss: 1.2878 - val_acc: 0.5496\n",
            "Epoch 13/30\n",
            "50000/50000 [==============================] - 10s 195us/sample - loss: 1.1339 - acc: 0.6086 - val_loss: 1.3332 - val_acc: 0.5365\n",
            "Epoch 14/30\n",
            "50000/50000 [==============================] - 10s 196us/sample - loss: 1.0993 - acc: 0.6214 - val_loss: 1.2909 - val_acc: 0.5529\n",
            "Epoch 15/30\n",
            "50000/50000 [==============================] - 10s 195us/sample - loss: 1.0634 - acc: 0.6342 - val_loss: 1.2428 - val_acc: 0.5683\n",
            "Epoch 16/30\n",
            "50000/50000 [==============================] - 10s 195us/sample - loss: 1.0292 - acc: 0.6456 - val_loss: 1.2568 - val_acc: 0.5651\n",
            "Epoch 17/30\n",
            "50000/50000 [==============================] - 10s 195us/sample - loss: 0.9988 - acc: 0.6547 - val_loss: 1.2497 - val_acc: 0.5686\n",
            "Epoch 18/30\n",
            "50000/50000 [==============================] - 10s 196us/sample - loss: 0.9654 - acc: 0.6659 - val_loss: 1.2460 - val_acc: 0.5657\n",
            "Epoch 19/30\n",
            "50000/50000 [==============================] - 10s 196us/sample - loss: 0.9364 - acc: 0.6796 - val_loss: 1.2581 - val_acc: 0.5651\n",
            "Epoch 20/30\n",
            "50000/50000 [==============================] - 10s 196us/sample - loss: 0.9062 - acc: 0.6889 - val_loss: 1.2033 - val_acc: 0.5809\n",
            "Epoch 21/30\n",
            "50000/50000 [==============================] - 10s 195us/sample - loss: 0.8763 - acc: 0.6993 - val_loss: 1.2314 - val_acc: 0.5793\n",
            "Epoch 22/30\n",
            "50000/50000 [==============================] - 10s 196us/sample - loss: 0.8433 - acc: 0.7135 - val_loss: 1.2121 - val_acc: 0.5863\n",
            "Epoch 23/30\n",
            "50000/50000 [==============================] - 10s 196us/sample - loss: 0.8123 - acc: 0.7219 - val_loss: 1.2241 - val_acc: 0.5790\n",
            "Epoch 24/30\n",
            "50000/50000 [==============================] - 10s 196us/sample - loss: 0.7832 - acc: 0.7342 - val_loss: 1.2253 - val_acc: 0.5860\n",
            "Epoch 25/30\n",
            "50000/50000 [==============================] - 10s 196us/sample - loss: 0.7528 - acc: 0.7448 - val_loss: 1.2203 - val_acc: 0.5908\n",
            "Epoch 26/30\n",
            "50000/50000 [==============================] - 10s 199us/sample - loss: 0.7217 - acc: 0.7558 - val_loss: 1.2472 - val_acc: 0.5803\n",
            "Epoch 27/30\n",
            "50000/50000 [==============================] - 10s 195us/sample - loss: 0.6891 - acc: 0.7697 - val_loss: 1.2431 - val_acc: 0.5823\n",
            "Epoch 28/30\n",
            "50000/50000 [==============================] - 10s 196us/sample - loss: 0.6590 - acc: 0.7785 - val_loss: 1.2561 - val_acc: 0.5854\n",
            "Epoch 29/30\n",
            "50000/50000 [==============================] - 10s 196us/sample - loss: 0.6289 - acc: 0.7910 - val_loss: 1.2295 - val_acc: 0.5951\n",
            "Epoch 30/30\n",
            "50000/50000 [==============================] - 10s 196us/sample - loss: 0.5940 - acc: 0.8037 - val_loss: 1.2683 - val_acc: 0.5843\n",
            "10000/10000 [==============================] - 2s 185us/sample - loss: 1.2683 - acc: 0.5843\n",
            "Test loss 1.2683, accuracy 58.43%\n"
          ],
          "name": "stdout"
        }
      ]
    },
    {
      "cell_type": "markdown",
      "metadata": {
        "id": "Uj3l4ogJCzhz",
        "colab_type": "text"
      },
      "source": [
        "Итого, мне удалось незначительно улучшить качество модели с увеличением числа ядер и слоев."
      ]
    },
    {
      "cell_type": "code",
      "metadata": {
        "id": "mrLBOi6UC1cA",
        "colab_type": "code",
        "colab": {}
      },
      "source": [
        ""
      ],
      "execution_count": 0,
      "outputs": []
    }
  ]
}
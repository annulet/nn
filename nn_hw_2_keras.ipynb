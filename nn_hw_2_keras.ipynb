{
 "cells": [
  {
   "cell_type": "code",
   "execution_count": 1,
   "metadata": {},
   "outputs": [
    {
     "name": "stderr",
     "output_type": "stream",
     "text": [
      "Using TensorFlow backend.\n",
      "C:\\Users\\ataga\\Anaconda3\\lib\\site-packages\\tensorflow\\python\\framework\\dtypes.py:526: FutureWarning: Passing (type, 1) or '1type' as a synonym of type is deprecated; in a future version of numpy, it will be understood as (type, (1,)) / '(1,)type'.\n",
      "  _np_qint8 = np.dtype([(\"qint8\", np.int8, 1)])\n",
      "C:\\Users\\ataga\\Anaconda3\\lib\\site-packages\\tensorflow\\python\\framework\\dtypes.py:527: FutureWarning: Passing (type, 1) or '1type' as a synonym of type is deprecated; in a future version of numpy, it will be understood as (type, (1,)) / '(1,)type'.\n",
      "  _np_quint8 = np.dtype([(\"quint8\", np.uint8, 1)])\n",
      "C:\\Users\\ataga\\Anaconda3\\lib\\site-packages\\tensorflow\\python\\framework\\dtypes.py:528: FutureWarning: Passing (type, 1) or '1type' as a synonym of type is deprecated; in a future version of numpy, it will be understood as (type, (1,)) / '(1,)type'.\n",
      "  _np_qint16 = np.dtype([(\"qint16\", np.int16, 1)])\n",
      "C:\\Users\\ataga\\Anaconda3\\lib\\site-packages\\tensorflow\\python\\framework\\dtypes.py:529: FutureWarning: Passing (type, 1) or '1type' as a synonym of type is deprecated; in a future version of numpy, it will be understood as (type, (1,)) / '(1,)type'.\n",
      "  _np_quint16 = np.dtype([(\"quint16\", np.uint16, 1)])\n",
      "C:\\Users\\ataga\\Anaconda3\\lib\\site-packages\\tensorflow\\python\\framework\\dtypes.py:530: FutureWarning: Passing (type, 1) or '1type' as a synonym of type is deprecated; in a future version of numpy, it will be understood as (type, (1,)) / '(1,)type'.\n",
      "  _np_qint32 = np.dtype([(\"qint32\", np.int32, 1)])\n",
      "C:\\Users\\ataga\\Anaconda3\\lib\\site-packages\\tensorflow\\python\\framework\\dtypes.py:535: FutureWarning: Passing (type, 1) or '1type' as a synonym of type is deprecated; in a future version of numpy, it will be understood as (type, (1,)) / '(1,)type'.\n",
      "  np_resource = np.dtype([(\"resource\", np.ubyte, 1)])\n"
     ]
    }
   ],
   "source": [
    "import numpy as np\n",
    "import keras\n",
    "from keras import regularizers\n",
    "from keras.datasets import fashion_mnist\n",
    "from keras.models import Sequential\n",
    "from keras.layers import Dense, Dropout\n",
    "from keras.optimizers import SGD, Adam\n",
    "from keras.utils import to_categorical\n",
    "from sklearn.metrics import accuracy_score"
   ]
  },
  {
   "cell_type": "code",
   "execution_count": 2,
   "metadata": {},
   "outputs": [],
   "source": [
    "np.random.seed(1)"
   ]
  },
  {
   "cell_type": "code",
   "execution_count": 3,
   "metadata": {},
   "outputs": [],
   "source": [
    "(x_train, y_train), (x_test, y_test) = fashion_mnist.load_data()"
   ]
  },
  {
   "cell_type": "code",
   "execution_count": 4,
   "metadata": {},
   "outputs": [
    {
     "name": "stdout",
     "output_type": "stream",
     "text": [
      "(60000, 784)\n",
      "(10000, 784)\n"
     ]
    }
   ],
   "source": [
    "# Normalize the images.\n",
    "x_train = (x_train / 255) - 0.5\n",
    "x_test = (x_test / 255) - 0.5\n",
    "\n",
    "# Flatten the images.\n",
    "x_train = x_train.reshape((-1, 784))\n",
    "x_test = x_test.reshape((-1, 784))\n",
    "\n",
    "print(x_train.shape) # (60000, 784)\n",
    "print(x_test.shape)  # (10000, 784)"
   ]
  },
  {
   "cell_type": "code",
   "execution_count": 5,
   "metadata": {},
   "outputs": [
    {
     "name": "stdout",
     "output_type": "stream",
     "text": [
      "WARNING:tensorflow:From C:\\Users\\ataga\\Anaconda3\\lib\\site-packages\\tensorflow\\python\\framework\\op_def_library.py:263: colocate_with (from tensorflow.python.framework.ops) is deprecated and will be removed in a future version.\n",
      "Instructions for updating:\n",
      "Colocations handled automatically by placer.\n",
      "WARNING:tensorflow:From C:\\Users\\ataga\\Anaconda3\\lib\\site-packages\\keras\\backend\\tensorflow_backend.py:3733: calling dropout (from tensorflow.python.ops.nn_ops) with keep_prob is deprecated and will be removed in a future version.\n",
      "Instructions for updating:\n",
      "Please use `rate` instead of `keep_prob`. Rate should be set to `rate = 1 - keep_prob`.\n",
      "Model: \"sequential_1\"\n",
      "_________________________________________________________________\n",
      "Layer (type)                 Output Shape              Param #   \n",
      "=================================================================\n",
      "dense_1 (Dense)              (None, 512)               401920    \n",
      "_________________________________________________________________\n",
      "dropout_1 (Dropout)          (None, 512)               0         \n",
      "_________________________________________________________________\n",
      "dense_2 (Dense)              (None, 512)               262656    \n",
      "_________________________________________________________________\n",
      "dropout_2 (Dropout)          (None, 512)               0         \n",
      "_________________________________________________________________\n",
      "dense_3 (Dense)              (None, 10)                5130      \n",
      "=================================================================\n",
      "Total params: 669,706\n",
      "Trainable params: 669,706\n",
      "Non-trainable params: 0\n",
      "_________________________________________________________________\n"
     ]
    }
   ],
   "source": [
    "# Build the model.\n",
    "# model = Sequential([\n",
    "#   Dense(128, activation='relu', input_shape=(784,)),\n",
    "#   Dense(128, activation='relu'),\n",
    "#   Dense(10, activation='softmax'),\n",
    "# ])\n",
    "\n",
    "N_EPOCHS = 50\n",
    "BATCH_SIZE = 512\n",
    "N_CLASSES = 10\n",
    "OPTIMISER = Adam()\n",
    "N_HIDDEN = 512\n",
    "DROPOUT = 0.2\n",
    "\n",
    "model = Sequential()\n",
    "model.add(Dense(N_HIDDEN, activation='relu', input_shape=(784,)))\n",
    "model.add(Dropout(DROPOUT))\n",
    "model.add(Dense(N_HIDDEN, activation='relu'))\n",
    "model.add(Dropout(DROPOUT))\n",
    "# model.add(Dense(N_HIDDEN, activation='relu'))\n",
    "# model.add(Dropout(DROPOUT))\n",
    "model.add(Dense(N_CLASSES, activation='softmax'))\n",
    "model.summary()"
   ]
  },
  {
   "cell_type": "code",
   "execution_count": 6,
   "metadata": {},
   "outputs": [],
   "source": [
    "# Compile the model.\n",
    "model.compile(\n",
    "  optimizer=OPTIMISER,\n",
    "  loss='categorical_crossentropy',\n",
    "  metrics=['accuracy'],\n",
    ")"
   ]
  },
  {
   "cell_type": "code",
   "execution_count": 7,
   "metadata": {},
   "outputs": [
    {
     "name": "stdout",
     "output_type": "stream",
     "text": [
      "WARNING:tensorflow:From C:\\Users\\ataga\\Anaconda3\\lib\\site-packages\\tensorflow\\python\\ops\\math_ops.py:3066: to_int32 (from tensorflow.python.ops.math_ops) is deprecated and will be removed in a future version.\n",
      "Instructions for updating:\n",
      "Use tf.cast instead.\n",
      "Train on 48000 samples, validate on 12000 samples\n",
      "Epoch 1/50\n",
      "48000/48000 [==============================] - 7s 144us/step - loss: 0.6222 - acc: 0.7778 - val_loss: 0.4375 - val_acc: 0.8414cc: 0\n",
      "Epoch 2/50\n",
      "48000/48000 [==============================] - 6s 133us/step - loss: 0.4175 - acc: 0.8480 - val_loss: 0.3820 - val_acc: 0.8623\n",
      "Epoch 3/50\n",
      "48000/48000 [==============================] - 6s 131us/step - loss: 0.3702 - acc: 0.8655 - val_loss: 0.3576 - val_acc: 0.8673\n",
      "Epoch 4/50\n",
      "48000/48000 [==============================] - 6s 134us/step - loss: 0.3423 - acc: 0.8744 - val_loss: 0.3569 - val_acc: 0.8697- loss:\n",
      "Epoch 5/50\n",
      "48000/48000 [==============================] - 6s 132us/step - loss: 0.3219 - acc: 0.8816 - val_loss: 0.3372 - val_acc: 0.8795 - acc - ETA: 2s - loss: 0.3239 - acc -\n",
      "Epoch 6/50\n",
      "48000/48000 [==============================] - 6s 131us/step - loss: 0.3060 - acc: 0.8875 - val_loss: 0.3383 - val_acc: 0.8752\n",
      "Epoch 7/50\n",
      "48000/48000 [==============================] - 6s 133us/step - loss: 0.2893 - acc: 0.8930 - val_loss: 0.3189 - val_acc: 0.8850\n",
      "Epoch 8/50\n",
      "48000/48000 [==============================] - 6s 133us/step - loss: 0.2776 - acc: 0.8980 - val_loss: 0.3167 - val_acc: 0.8861 loss: 0.2779 - acc: 0.\n",
      "Epoch 9/50\n",
      "48000/48000 [==============================] - 6s 133us/step - loss: 0.2635 - acc: 0.9025 - val_loss: 0.3126 - val_acc: 0.8874\n",
      "Epoch 10/50\n",
      "48000/48000 [==============================] - 6s 132us/step - loss: 0.2561 - acc: 0.9049 - val_loss: 0.3088 - val_acc: 0.8893\n",
      "Epoch 11/50\n",
      "48000/48000 [==============================] - 6s 132us/step - loss: 0.2471 - acc: 0.9079 - val_loss: 0.3104 - val_acc: 0.8859\n",
      "Epoch 12/50\n",
      "48000/48000 [==============================] - 6s 132us/step - loss: 0.2407 - acc: 0.9101 - val_loss: 0.3023 - val_acc: 0.8918\n",
      "Epoch 13/50\n",
      "48000/48000 [==============================] - 6s 133us/step - loss: 0.2292 - acc: 0.9150 - val_loss: 0.3015 - val_acc: 0.8922.2254 - acc: 0 - ETA: 1s - loss: 0\n",
      "Epoch 14/50\n",
      "48000/48000 [==============================] - 6s 132us/step - loss: 0.2252 - acc: 0.9151 - val_loss: 0.3018 - val_acc: 0.8918 0.2227 - ac - ETA: 2s - loss - ETA: 1s - \n",
      "Epoch 15/50\n",
      "48000/48000 [==============================] - 6s 132us/step - loss: 0.2166 - acc: 0.9199 - val_loss: 0.3029 - val_acc: 0.8907\n",
      "Epoch 16/50\n",
      "48000/48000 [==============================] - 6s 132us/step - loss: 0.2134 - acc: 0.9202 - val_loss: 0.3030 - val_acc: 0.8931\n",
      "Epoch 17/50\n",
      "48000/48000 [==============================] - 6s 133us/step - loss: 0.2030 - acc: 0.9246 - val_loss: 0.2989 - val_acc: 0.8962\n",
      "Epoch 18/50\n",
      "48000/48000 [==============================] - 6s 133us/step - loss: 0.1971 - acc: 0.9259 - val_loss: 0.3071 - val_acc: 0.8918\n",
      "Epoch 19/50\n",
      "48000/48000 [==============================] - 6s 132us/step - loss: 0.1898 - acc: 0.9284 - val_loss: 0.3016 - val_acc: 0.8947\n",
      "Epoch 20/50\n",
      "48000/48000 [==============================] - 6s 132us/step - loss: 0.1889 - acc: 0.9288 - val_loss: 0.2998 - val_acc: 0.8962: 0.1854 - acc: - ETA: 1s - lo\n",
      "Epoch 21/50\n",
      "48000/48000 [==============================] - 6s 132us/step - loss: 0.1788 - acc: 0.9321 - val_loss: 0.3177 - val_acc: 0.8923\n",
      "Epoch 22/50\n",
      "48000/48000 [==============================] - 6s 130us/step - loss: 0.1736 - acc: 0.9349 - val_loss: 0.3031 - val_acc: 0.8982\n",
      "Epoch 23/50\n",
      "48000/48000 [==============================] - 6s 131us/step - loss: 0.1658 - acc: 0.9382 - val_loss: 0.3077 - val_acc: 0.8980\n",
      "Epoch 24/50\n",
      "48000/48000 [==============================] - 6s 130us/step - loss: 0.1637 - acc: 0.9390 - val_loss: 0.3160 - val_acc: 0.8955\n",
      "Epoch 25/50\n",
      "48000/48000 [==============================] - 6s 131us/step - loss: 0.1588 - acc: 0.9407 - val_loss: 0.3110 - val_acc: 0.8989 0. - ETA: 0s - loss: 0.1580 - acc:\n",
      "Epoch 26/50\n",
      "48000/48000 [==============================] - 6s 129us/step - loss: 0.1546 - acc: 0.9414 - val_loss: 0.3146 - val_acc: 0.8961\n",
      "Epoch 27/50\n",
      "48000/48000 [==============================] - 6s 127us/step - loss: 0.1478 - acc: 0.9448 - val_loss: 0.3244 - val_acc: 0.8963\n",
      "Epoch 28/50\n",
      "48000/48000 [==============================] - 6s 129us/step - loss: 0.1435 - acc: 0.9469 - val_loss: 0.3165 - val_acc: 0.8983s - loss: 0.1477 - acc: 0 - ETA: \n",
      "Epoch 29/50\n",
      "48000/48000 [==============================] - 6s 130us/step - loss: 0.1451 - acc: 0.9455 - val_loss: 0.3235 - val_acc: 0.8976\n",
      "Epoch 30/50\n",
      "48000/48000 [==============================] - 6s 132us/step - loss: 0.1387 - acc: 0.9471 - val_loss: 0.3196 - val_acc: 0.8983\n",
      "Epoch 31/50\n",
      "48000/48000 [==============================] - 6s 131us/step - loss: 0.1379 - acc: 0.9480 - val_loss: 0.3404 - val_acc: 0.8949\n",
      "Epoch 32/50\n",
      "48000/48000 [==============================] - 6s 130us/step - loss: 0.1348 - acc: 0.9489 - val_loss: 0.3439 - val_acc: 0.8933\n",
      "Epoch 33/50\n",
      "48000/48000 [==============================] - 6s 131us/step - loss: 0.1287 - acc: 0.9512 - val_loss: 0.3440 - val_acc: 0.8935\n",
      "Epoch 34/50\n",
      "48000/48000 [==============================] - 6s 131us/step - loss: 0.1266 - acc: 0.9516 - val_loss: 0.3302 - val_acc: 0.8956\n",
      "Epoch 35/50\n",
      "48000/48000 [==============================] - 6s 130us/step - loss: 0.1227 - acc: 0.9545 - val_loss: 0.3353 - val_acc: 0.8978\n",
      "Epoch 36/50\n",
      "48000/48000 [==============================] - 6s 132us/step - loss: 0.1231 - acc: 0.9533 - val_loss: 0.3510 - val_acc: 0.8957\n",
      "Epoch 37/50\n",
      "48000/48000 [==============================] - 6s 130us/step - loss: 0.1157 - acc: 0.9570 - val_loss: 0.3492 - val_acc: 0.8962\n",
      "Epoch 38/50\n",
      "48000/48000 [==============================] - 6s 130us/step - loss: 0.1153 - acc: 0.9566 - val_loss: 0.3469 - val_acc: 0.8974\n",
      "Epoch 39/50\n",
      "48000/48000 [==============================] - 6s 131us/step - loss: 0.1077 - acc: 0.9597 - val_loss: 0.3484 - val_acc: 0.8976\n",
      "Epoch 40/50\n",
      "48000/48000 [==============================] - 6s 129us/step - loss: 0.1099 - acc: 0.9591 - val_loss: 0.3693 - val_acc: 0.8930\n",
      "Epoch 41/50\n",
      "48000/48000 [==============================] - 6s 131us/step - loss: 0.1087 - acc: 0.9592 - val_loss: 0.3563 - val_acc: 0.8953\n",
      "Epoch 42/50\n",
      "48000/48000 [==============================] - 6s 129us/step - loss: 0.1060 - acc: 0.9605 - val_loss: 0.3569 - val_acc: 0.8961.960 - ETA: 0s - loss: 0.1055 - a\n",
      "Epoch 43/50\n",
      "48000/48000 [==============================] - 6s 132us/step - loss: 0.1013 - acc: 0.9622 - val_loss: 0.3582 - val_acc: 0.8998\n",
      "Epoch 44/50\n",
      "48000/48000 [==============================] - 6s 131us/step - loss: 0.0962 - acc: 0.9641 - val_loss: 0.3718 - val_acc: 0.8978\n",
      "Epoch 45/50\n",
      "48000/48000 [==============================] - 6s 129us/step - loss: 0.0970 - acc: 0.9635 - val_loss: 0.3628 - val_acc: 0.8984\n",
      "Epoch 46/50\n",
      "48000/48000 [==============================] - 6s 130us/step - loss: 0.0948 - acc: 0.9635 - val_loss: 0.3757 - val_acc: 0.8972\n",
      "Epoch 47/50\n",
      "48000/48000 [==============================] - 6s 129us/step - loss: 0.0958 - acc: 0.9644 - val_loss: 0.3774 - val_acc: 0.8977\n",
      "Epoch 48/50\n",
      "48000/48000 [==============================] - 6s 130us/step - loss: 0.0905 - acc: 0.9658 - val_loss: 0.3730 - val_acc: 0.8974TA: 0s - loss: 0.0905 -\n",
      "Epoch 49/50\n",
      "48000/48000 [==============================] - 6s 130us/step - loss: 0.0844 - acc: 0.9676 - val_loss: 0.3792 - val_acc: 0.8982\n",
      "Epoch 50/50\n",
      "48000/48000 [==============================] - 6s 128us/step - loss: 0.0858 - acc: 0.9673 - val_loss: 0.3870 - val_acc: 0.8968\n"
     ]
    },
    {
     "data": {
      "text/plain": [
       "<keras.callbacks.History at 0x2ab90901e88>"
      ]
     },
     "execution_count": 7,
     "metadata": {},
     "output_type": "execute_result"
    }
   ],
   "source": [
    "# Train the model.\n",
    "model.fit(\n",
    "    x_train,\n",
    "    to_categorical(y_train),\n",
    "    epochs=N_EPOCHS,\n",
    "    batch_size=BATCH_SIZE,\n",
    "    validation_split=0.2\n",
    ")"
   ]
  },
  {
   "cell_type": "code",
   "execution_count": 8,
   "metadata": {},
   "outputs": [
    {
     "name": "stdout",
     "output_type": "stream",
     "text": [
      "10000/10000 [==============================] - 1s 113us/step\n"
     ]
    },
    {
     "data": {
      "text/plain": [
       "[0.4215761724539101, 0.897]"
      ]
     },
     "execution_count": 8,
     "metadata": {},
     "output_type": "execute_result"
    }
   ],
   "source": [
    "# Evaluate the model.\n",
    "model.evaluate(\n",
    "  x_test,\n",
    "  to_categorical(y_test)\n",
    ")"
   ]
  },
  {
   "cell_type": "code",
   "execution_count": 9,
   "metadata": {},
   "outputs": [],
   "source": [
    "# Save the model to disk.\n",
    "model.save_weights('nn_model_hw_2.h5')"
   ]
  },
  {
   "cell_type": "code",
   "execution_count": 10,
   "metadata": {},
   "outputs": [],
   "source": [
    "# Load the model from disk later using:\n",
    "# model.load_weights('nn_model_hw_2.h5')"
   ]
  },
  {
   "cell_type": "code",
   "execution_count": 11,
   "metadata": {},
   "outputs": [],
   "source": [
    "# Predict on test images.\n",
    "predictions = model.predict(x_test)"
   ]
  },
  {
   "cell_type": "code",
   "execution_count": 12,
   "metadata": {},
   "outputs": [],
   "source": [
    "test_preds = np.argmax(predictions, axis=1)"
   ]
  },
  {
   "cell_type": "code",
   "execution_count": 13,
   "metadata": {},
   "outputs": [
    {
     "data": {
      "text/plain": [
       "0.897"
      ]
     },
     "execution_count": 13,
     "metadata": {},
     "output_type": "execute_result"
    }
   ],
   "source": [
    "accuracy_score(y_test, test_preds)"
   ]
  },
  {
   "cell_type": "markdown",
   "metadata": {},
   "source": [
    "Я увеличила число входных неронов и нейронов скрытого слоя до 512, добавила прореживание при помощи метода Dropout, увеличила размер батча до 512, при обучении использовала валидацию на 20% выборки, и в итоге получиал 90% точность на тесте."
   ]
  },
  {
   "cell_type": "code",
   "execution_count": null,
   "metadata": {},
   "outputs": [],
   "source": []
  },
  {
   "cell_type": "code",
   "execution_count": null,
   "metadata": {},
   "outputs": [],
   "source": []
  }
 ],
 "metadata": {
  "kernelspec": {
   "display_name": "Python 3",
   "language": "python",
   "name": "python3"
  },
  "language_info": {
   "codemirror_mode": {
    "name": "ipython",
    "version": 3
   },
   "file_extension": ".py",
   "mimetype": "text/x-python",
   "name": "python",
   "nbconvert_exporter": "python",
   "pygments_lexer": "ipython3",
   "version": "3.7.4"
  }
 },
 "nbformat": 4,
 "nbformat_minor": 2
}

{
  "nbformat": 4,
  "nbformat_minor": 0,
  "metadata": {
    "colab": {
      "name": "hw_5_cats_and_dogs.ipynb",
      "provenance": [],
      "authorship_tag": "ABX9TyM0sSsJz8OEK/X7RUxHuAOi",
      "include_colab_link": true
    },
    "kernelspec": {
      "name": "python3",
      "display_name": "Python 3"
    },
    "accelerator": "GPU"
  },
  "cells": [
    {
      "cell_type": "markdown",
      "metadata": {
        "id": "view-in-github",
        "colab_type": "text"
      },
      "source": [
        "<a href=\"https://colab.research.google.com/github/annulet/nn/blob/master/hw_5_cats_and_dogs.ipynb\" target=\"_parent\"><img src=\"https://colab.research.google.com/assets/colab-badge.svg\" alt=\"Open In Colab\"/></a>"
      ]
    },
    {
      "cell_type": "code",
      "metadata": {
        "id": "4Ndez5fMORvw",
        "colab_type": "code",
        "outputId": "3d30e4b4-29a5-4ab7-dbbf-3aa6c2d97199",
        "colab": {
          "base_uri": "https://localhost:8080/",
          "height": 128
        }
      },
      "source": [
        "# Подключение к Google drive\n",
        "\n",
        "from google.colab import drive\n",
        "drive.mount('/content/drive')"
      ],
      "execution_count": 1,
      "outputs": [
        {
          "output_type": "stream",
          "text": [
            "Go to this URL in a browser: https://accounts.google.com/o/oauth2/auth?client_id=947318989803-6bn6qk8qdgf4n4g3pfee6491hc0brc4i.apps.googleusercontent.com&redirect_uri=urn%3aietf%3awg%3aoauth%3a2.0%3aoob&response_type=code&scope=email%20https%3a%2f%2fwww.googleapis.com%2fauth%2fdocs.test%20https%3a%2f%2fwww.googleapis.com%2fauth%2fdrive%20https%3a%2f%2fwww.googleapis.com%2fauth%2fdrive.photos.readonly%20https%3a%2f%2fwww.googleapis.com%2fauth%2fpeopleapi.readonly\n",
            "\n",
            "Enter your authorization code:\n",
            "··········\n",
            "Mounted at /content/drive\n"
          ],
          "name": "stdout"
        }
      ]
    },
    {
      "cell_type": "markdown",
      "metadata": {
        "id": "C2inwvBUt9JW",
        "colab_type": "text"
      },
      "source": [
        "Вариант 2\n",
        "\n",
        "1.Соберите модель классификатора на основе VGG16 (VGG19, ...)\n",
        "\n",
        "2.Проведите обучение для модели на решение задачи распознавания для выборки Dog&Cat (применяем аугментацию, изменение размеров картинок + перенос обучения)\n",
        "\n",
        "3.Сделайте выводы о том как вели себя модели в процессе обучени и что влияет на качество обучении."
      ]
    },
    {
      "cell_type": "code",
      "metadata": {
        "id": "GGS91iV18wxM",
        "colab_type": "code",
        "colab": {}
      },
      "source": [
        "import os, shutil"
      ],
      "execution_count": 0,
      "outputs": []
    },
    {
      "cell_type": "markdown",
      "metadata": {
        "id": "Wy28Kqt_O5ur",
        "colab_type": "text"
      },
      "source": [
        "Создаем папки с изображениями для обучения, валидации и теста. Заполняем изображениями. "
      ]
    },
    {
      "cell_type": "code",
      "metadata": {
        "id": "2605JNL-PO5o",
        "colab_type": "code",
        "colab": {}
      },
      "source": [
        "# Для экономии ресурсов я сипользовала не все данные из набора."
      ],
      "execution_count": 0,
      "outputs": []
    },
    {
      "cell_type": "code",
      "metadata": {
        "id": "uKLz_O07Oh5S",
        "colab_type": "code",
        "colab": {}
      },
      "source": [
        "original_train_dir = '/content/drive/My Drive/catsanddogs/train/train'\n",
        "base_dir = '/content/drive/My Drive/catsanddogs/cats_and_dogs_small'\n",
        "# os.mkdir(base_dir)\n"
      ],
      "execution_count": 0,
      "outputs": []
    },
    {
      "cell_type": "code",
      "metadata": {
        "id": "sJsqzKh07enK",
        "colab_type": "code",
        "colab": {}
      },
      "source": [
        "train_dir = os.path.join(base_dir, 'train')\n",
        "# os.mkdir(train_dir)"
      ],
      "execution_count": 0,
      "outputs": []
    },
    {
      "cell_type": "code",
      "metadata": {
        "id": "mWksqS7U9ocY",
        "colab_type": "code",
        "colab": {}
      },
      "source": [
        "validation_dir = os.path.join(base_dir, 'validation')\n",
        "# os.mkdir(validation_dir)"
      ],
      "execution_count": 0,
      "outputs": []
    },
    {
      "cell_type": "code",
      "metadata": {
        "id": "xsVqT73t97ZE",
        "colab_type": "code",
        "colab": {}
      },
      "source": [
        "test_dir = os.path.join(base_dir, 'test')\n",
        "# os.mkdir(test_dir)"
      ],
      "execution_count": 0,
      "outputs": []
    },
    {
      "cell_type": "code",
      "metadata": {
        "id": "Cy0AMzL09_h8",
        "colab_type": "code",
        "colab": {}
      },
      "source": [
        "train_cats_dir = os.path.join(train_dir, 'cats')\n",
        "# os.mkdir(train_cats_dir)"
      ],
      "execution_count": 0,
      "outputs": []
    },
    {
      "cell_type": "code",
      "metadata": {
        "id": "d6QCDDVO-W1s",
        "colab_type": "code",
        "colab": {}
      },
      "source": [
        "train_dogs_dir = os.path.join(train_dir, 'dogs')\n",
        "# os.mkdir(train_dogs_dir)"
      ],
      "execution_count": 0,
      "outputs": []
    },
    {
      "cell_type": "code",
      "metadata": {
        "id": "MHlanVR--d0W",
        "colab_type": "code",
        "colab": {}
      },
      "source": [
        "validation_cats_dir = os.path.join(validation_dir, 'cats')\n",
        "# os.mkdir(validation_cats_dir)\n",
        "validation_dogs_dir = os.path.join(validation_dir, 'dogs')\n",
        "# os.mkdir(validation_dogs_dir)"
      ],
      "execution_count": 0,
      "outputs": []
    },
    {
      "cell_type": "code",
      "metadata": {
        "id": "xbX25100-tmy",
        "colab_type": "code",
        "colab": {}
      },
      "source": [
        "test_cats_dir = os.path.join(test_dir, 'cats')\n",
        "# os.mkdir(test_cats_dir)\n",
        "test_dogs_dir = os.path.join(test_dir, 'dogs')\n",
        "# os.mkdir(test_dogs_dir)"
      ],
      "execution_count": 0,
      "outputs": []
    },
    {
      "cell_type": "code",
      "metadata": {
        "id": "gjmrxS1--4TL",
        "colab_type": "code",
        "colab": {}
      },
      "source": [
        "# fnames = ['cat.{}.jpg'.format(i) for i in range (1000)]\n",
        "# for fname in fnames:\n",
        "#   src = os.path.join(original_train_dir, fname)\n",
        "#   dst = os.path.join(train_cats_dir, fname)\n",
        "#   shutil.copyfile(src, dst)"
      ],
      "execution_count": 0,
      "outputs": []
    },
    {
      "cell_type": "code",
      "metadata": {
        "id": "rv06JkvPAAS-",
        "colab_type": "code",
        "colab": {}
      },
      "source": [
        "# fnames = ['cat.{}.jpg'.format(i) for i in range (1000, 1500)]\n",
        "# for fname in fnames:\n",
        "#   src = os.path.join(original_train_dir, fname)\n",
        "#   dst = os.path.join(validation_cats_dir, fname)\n",
        "#   shutil.copyfile(src, dst)"
      ],
      "execution_count": 0,
      "outputs": []
    },
    {
      "cell_type": "code",
      "metadata": {
        "id": "MVkjkvO2A2Hh",
        "colab_type": "code",
        "colab": {}
      },
      "source": [
        "# fnames = ['cat.{}.jpg'.format(i) for i in range (1500, 2000)]\n",
        "# for fname in fnames:\n",
        "#   src = os.path.join(original_train_dir, fname)\n",
        "#   dst = os.path.join(test_cats_dir, fname)\n",
        "#   shutil.copyfile(src, dst)"
      ],
      "execution_count": 0,
      "outputs": []
    },
    {
      "cell_type": "code",
      "metadata": {
        "id": "ije1nvrdA9jR",
        "colab_type": "code",
        "colab": {}
      },
      "source": [
        "# fnames = ['dog.{}.jpg'.format(i) for i in range (1000)]\n",
        "# for fname in fnames:\n",
        "#   src = os.path.join(original_train_dir, fname)\n",
        "#   dst = os.path.join(train_dogs_dir, fname)\n",
        "#   shutil.copyfile(src, dst)"
      ],
      "execution_count": 0,
      "outputs": []
    },
    {
      "cell_type": "code",
      "metadata": {
        "id": "0l5H6GOgA9nh",
        "colab_type": "code",
        "colab": {}
      },
      "source": [
        "# fnames = ['dog.{}.jpg'.format(i) for i in range (1000, 1500)]\n",
        "# for fname in fnames:\n",
        "#   src = os.path.join(original_train_dir, fname)\n",
        "#   dst = os.path.join(validation_dogs_dir, fname)\n",
        "#   shutil.copyfile(src, dst)"
      ],
      "execution_count": 0,
      "outputs": []
    },
    {
      "cell_type": "code",
      "metadata": {
        "id": "1k9QvIkKA9rw",
        "colab_type": "code",
        "colab": {}
      },
      "source": [
        "# fnames = ['dog.{}.jpg'.format(i) for i in range (1500, 2000)]\n",
        "# for fname in fnames:\n",
        "#   src = os.path.join(original_train_dir, fname)\n",
        "#   dst = os.path.join(test_dogs_dir, fname)\n",
        "#   shutil.copyfile(src, dst)"
      ],
      "execution_count": 0,
      "outputs": []
    },
    {
      "cell_type": "markdown",
      "metadata": {
        "id": "ckCmhZgBbh7Y",
        "colab_type": "text"
      },
      "source": [
        "Проверяем количество изображений в папках."
      ]
    },
    {
      "cell_type": "code",
      "metadata": {
        "id": "q6QXqr-SBV1W",
        "colab_type": "code",
        "outputId": "6920fda1-84d3-4edf-92f8-303f09ebc89e",
        "colab": {
          "base_uri": "https://localhost:8080/",
          "height": 35
        }
      },
      "source": [
        "len (os. listdir(train_cats_dir))"
      ],
      "execution_count": 18,
      "outputs": [
        {
          "output_type": "execute_result",
          "data": {
            "text/plain": [
              "1000"
            ]
          },
          "metadata": {
            "tags": []
          },
          "execution_count": 18
        }
      ]
    },
    {
      "cell_type": "code",
      "metadata": {
        "id": "d_bPaTe5BkeW",
        "colab_type": "code",
        "outputId": "18470723-f64b-4983-b6fe-d7301305e497",
        "colab": {
          "base_uri": "https://localhost:8080/",
          "height": 35
        }
      },
      "source": [
        "len (os. listdir(train_dogs_dir))"
      ],
      "execution_count": 19,
      "outputs": [
        {
          "output_type": "execute_result",
          "data": {
            "text/plain": [
              "1000"
            ]
          },
          "metadata": {
            "tags": []
          },
          "execution_count": 19
        }
      ]
    },
    {
      "cell_type": "code",
      "metadata": {
        "id": "5dlZmbbOBsLz",
        "colab_type": "code",
        "outputId": "f5ee36e2-c943-4929-aab7-bc7ae82bf4a3",
        "colab": {
          "base_uri": "https://localhost:8080/",
          "height": 35
        }
      },
      "source": [
        "len (os. listdir(validation_cats_dir))"
      ],
      "execution_count": 20,
      "outputs": [
        {
          "output_type": "execute_result",
          "data": {
            "text/plain": [
              "500"
            ]
          },
          "metadata": {
            "tags": []
          },
          "execution_count": 20
        }
      ]
    },
    {
      "cell_type": "code",
      "metadata": {
        "id": "CNPyFQvjB2a4",
        "colab_type": "code",
        "outputId": "a1907bea-1827-4ca5-e90b-3b391c1cc8d3",
        "colab": {
          "base_uri": "https://localhost:8080/",
          "height": 35
        }
      },
      "source": [
        "len (os. listdir(validation_dogs_dir))"
      ],
      "execution_count": 21,
      "outputs": [
        {
          "output_type": "execute_result",
          "data": {
            "text/plain": [
              "500"
            ]
          },
          "metadata": {
            "tags": []
          },
          "execution_count": 21
        }
      ]
    },
    {
      "cell_type": "code",
      "metadata": {
        "id": "zhglr9cjB4tK",
        "colab_type": "code",
        "outputId": "73fa3d99-e6a5-466b-cbe1-31906e61572a",
        "colab": {
          "base_uri": "https://localhost:8080/",
          "height": 35
        }
      },
      "source": [
        "len (os. listdir(test_cats_dir))"
      ],
      "execution_count": 22,
      "outputs": [
        {
          "output_type": "execute_result",
          "data": {
            "text/plain": [
              "500"
            ]
          },
          "metadata": {
            "tags": []
          },
          "execution_count": 22
        }
      ]
    },
    {
      "cell_type": "code",
      "metadata": {
        "id": "c-n1Jsj4B8hF",
        "colab_type": "code",
        "outputId": "4de73309-8eb1-4d6b-a60c-6a647e044997",
        "colab": {
          "base_uri": "https://localhost:8080/",
          "height": 35
        }
      },
      "source": [
        "len (os. listdir(test_dogs_dir))"
      ],
      "execution_count": 23,
      "outputs": [
        {
          "output_type": "execute_result",
          "data": {
            "text/plain": [
              "500"
            ]
          },
          "metadata": {
            "tags": []
          },
          "execution_count": 23
        }
      ]
    },
    {
      "cell_type": "markdown",
      "metadata": {
        "id": "sK6ayhj2Kthv",
        "colab_type": "text"
      },
      "source": [
        "Построим базовую модель"
      ]
    },
    {
      "cell_type": "code",
      "metadata": {
        "id": "krvXPXLGCBBx",
        "colab_type": "code",
        "outputId": "a846cb29-2edf-497b-aab2-19cf02c66545",
        "colab": {
          "base_uri": "https://localhost:8080/",
          "height": 339
        }
      },
      "source": [
        "from keras import layers \n",
        "from keras import models\n",
        "\n",
        "# Сверточная часть будет содержать 4 сверточных слоя, \n",
        "# 4 слоя MaxPooling2 и слой Dropout для борьбы с переобучением.\n",
        "\n",
        "model = models.Sequential()\n",
        "\n",
        "model.add(layers.Conv2D(32, (3, 3), activation='relu', \n",
        "                        input_shape=(150, 150, 3)))\n",
        "model.add(layers.MaxPooling2D((2, 2)))\n",
        "\n",
        "model.add(layers.Conv2D(64, (3, 3), activation='relu'))\n",
        "model.add(layers.MaxPooling2D((2, 2)))\n",
        "\n",
        "model.add(layers.Conv2D(128, (3, 3), activation='relu'))\n",
        "model.add(layers.MaxPooling2D((2, 2)))\n",
        "\n",
        "model.add(layers.Conv2D(128, (3, 3), activation='relu'))\n",
        "model.add(layers.MaxPooling2D((2, 2)))\n",
        "\n",
        "model.add(layers.Flatten())\n",
        "model.add(layers.Dropout(0.5))\n",
        "model.add(layers.Dense(512, activation='relu'))\n",
        "model.add(layers.Dense(1, activation='sigmoid'))"
      ],
      "execution_count": 24,
      "outputs": [
        {
          "output_type": "stream",
          "text": [
            "Using TensorFlow backend.\n"
          ],
          "name": "stderr"
        },
        {
          "output_type": "display_data",
          "data": {
            "text/html": [
              "<p style=\"color: red;\">\n",
              "The default version of TensorFlow in Colab will soon switch to TensorFlow 2.x.<br>\n",
              "We recommend you <a href=\"https://www.tensorflow.org/guide/migrate\" target=\"_blank\">upgrade</a> now \n",
              "or ensure your notebook will continue to use TensorFlow 1.x via the <code>%tensorflow_version 1.x</code> magic:\n",
              "<a href=\"https://colab.research.google.com/notebooks/tensorflow_version.ipynb\" target=\"_blank\">more info</a>.</p>\n"
            ],
            "text/plain": [
              "<IPython.core.display.HTML object>"
            ]
          },
          "metadata": {
            "tags": []
          }
        },
        {
          "output_type": "stream",
          "text": [
            "WARNING:tensorflow:From /usr/local/lib/python3.6/dist-packages/keras/backend/tensorflow_backend.py:66: The name tf.get_default_graph is deprecated. Please use tf.compat.v1.get_default_graph instead.\n",
            "\n",
            "WARNING:tensorflow:From /usr/local/lib/python3.6/dist-packages/keras/backend/tensorflow_backend.py:541: The name tf.placeholder is deprecated. Please use tf.compat.v1.placeholder instead.\n",
            "\n",
            "WARNING:tensorflow:From /usr/local/lib/python3.6/dist-packages/keras/backend/tensorflow_backend.py:4432: The name tf.random_uniform is deprecated. Please use tf.random.uniform instead.\n",
            "\n",
            "WARNING:tensorflow:From /usr/local/lib/python3.6/dist-packages/keras/backend/tensorflow_backend.py:4267: The name tf.nn.max_pool is deprecated. Please use tf.nn.max_pool2d instead.\n",
            "\n",
            "WARNING:tensorflow:From /usr/local/lib/python3.6/dist-packages/keras/backend/tensorflow_backend.py:148: The name tf.placeholder_with_default is deprecated. Please use tf.compat.v1.placeholder_with_default instead.\n",
            "\n",
            "WARNING:tensorflow:From /usr/local/lib/python3.6/dist-packages/keras/backend/tensorflow_backend.py:3733: calling dropout (from tensorflow.python.ops.nn_ops) with keep_prob is deprecated and will be removed in a future version.\n",
            "Instructions for updating:\n",
            "Please use `rate` instead of `keep_prob`. Rate should be set to `rate = 1 - keep_prob`.\n"
          ],
          "name": "stdout"
        }
      ]
    },
    {
      "cell_type": "code",
      "metadata": {
        "id": "jBmbOgUTFJhL",
        "colab_type": "code",
        "outputId": "3e3f7df0-1a25-4da1-9dcd-419cf6d02c04",
        "colab": {
          "base_uri": "https://localhost:8080/",
          "height": 599
        }
      },
      "source": [
        "model.summary()"
      ],
      "execution_count": 25,
      "outputs": [
        {
          "output_type": "stream",
          "text": [
            "Model: \"sequential_1\"\n",
            "_________________________________________________________________\n",
            "Layer (type)                 Output Shape              Param #   \n",
            "=================================================================\n",
            "conv2d_1 (Conv2D)            (None, 148, 148, 32)      896       \n",
            "_________________________________________________________________\n",
            "max_pooling2d_1 (MaxPooling2 (None, 74, 74, 32)        0         \n",
            "_________________________________________________________________\n",
            "conv2d_2 (Conv2D)            (None, 72, 72, 64)        18496     \n",
            "_________________________________________________________________\n",
            "max_pooling2d_2 (MaxPooling2 (None, 36, 36, 64)        0         \n",
            "_________________________________________________________________\n",
            "conv2d_3 (Conv2D)            (None, 34, 34, 128)       73856     \n",
            "_________________________________________________________________\n",
            "max_pooling2d_3 (MaxPooling2 (None, 17, 17, 128)       0         \n",
            "_________________________________________________________________\n",
            "conv2d_4 (Conv2D)            (None, 15, 15, 128)       147584    \n",
            "_________________________________________________________________\n",
            "max_pooling2d_4 (MaxPooling2 (None, 7, 7, 128)         0         \n",
            "_________________________________________________________________\n",
            "flatten_1 (Flatten)          (None, 6272)              0         \n",
            "_________________________________________________________________\n",
            "dropout_1 (Dropout)          (None, 6272)              0         \n",
            "_________________________________________________________________\n",
            "dense_1 (Dense)              (None, 512)               3211776   \n",
            "_________________________________________________________________\n",
            "dense_2 (Dense)              (None, 1)                 513       \n",
            "=================================================================\n",
            "Total params: 3,453,121\n",
            "Trainable params: 3,453,121\n",
            "Non-trainable params: 0\n",
            "_________________________________________________________________\n"
          ],
          "name": "stdout"
        }
      ]
    },
    {
      "cell_type": "code",
      "metadata": {
        "id": "eVGcdEjLFPhW",
        "colab_type": "code",
        "outputId": "bdaa89e4-6bfa-4ed0-fc3c-c063a0d69b31",
        "colab": {
          "base_uri": "https://localhost:8080/",
          "height": 145
        }
      },
      "source": [
        "from keras import optimizers\n",
        "\n",
        "# Компиляция\n",
        "model.compile(loss='binary_crossentropy', \n",
        "              optimizer=optimizers.RMSprop(lr=1e-4), \n",
        "              metrics=['acc'])"
      ],
      "execution_count": 26,
      "outputs": [
        {
          "output_type": "stream",
          "text": [
            "WARNING:tensorflow:From /usr/local/lib/python3.6/dist-packages/keras/optimizers.py:793: The name tf.train.Optimizer is deprecated. Please use tf.compat.v1.train.Optimizer instead.\n",
            "\n",
            "WARNING:tensorflow:From /usr/local/lib/python3.6/dist-packages/keras/backend/tensorflow_backend.py:3657: The name tf.log is deprecated. Please use tf.math.log instead.\n",
            "\n",
            "WARNING:tensorflow:From /tensorflow-1.15.0/python3.6/tensorflow_core/python/ops/nn_impl.py:183: where (from tensorflow.python.ops.array_ops) is deprecated and will be removed in a future version.\n",
            "Instructions for updating:\n",
            "Use tf.where in 2.0, which has the same broadcast rule as np.where\n"
          ],
          "name": "stdout"
        }
      ]
    },
    {
      "cell_type": "markdown",
      "metadata": {
        "id": "uNdVaDd0JgPY",
        "colab_type": "text"
      },
      "source": [
        "Подготовим данные при помощи генераторов."
      ]
    },
    {
      "cell_type": "code",
      "metadata": {
        "id": "YQQvpl7SHMA8",
        "colab_type": "code",
        "colab": {}
      },
      "source": [
        "from keras.preprocessing.image import ImageDataGenerator"
      ],
      "execution_count": 0,
      "outputs": []
    },
    {
      "cell_type": "code",
      "metadata": {
        "id": "L9crxD3CHMPo",
        "colab_type": "code",
        "colab": {}
      },
      "source": [
        "# Масштабируем изображения, применяем аугментацию.\n",
        "train_datagen = ImageDataGenerator(rescale=1./255, \n",
        "                                   rotation_range=40, \n",
        "                                   width_shift_range=0.2, \n",
        "                                   height_shift_range=0.2, \n",
        "                                   shear_range=0.2, \n",
        "                                   zoom_range=0.2, \n",
        "                                   horizontal_flip=True)\n",
        "\n",
        "# Тестовые изображения только масштабируем.\n",
        "test_datagen = ImageDataGenerator(rescale=1./255)"
      ],
      "execution_count": 0,
      "outputs": []
    },
    {
      "cell_type": "code",
      "metadata": {
        "id": "Pv0M5FWyHMcp",
        "colab_type": "code",
        "outputId": "aeea3fb3-c48f-428e-bae9-03482030966d",
        "colab": {
          "base_uri": "https://localhost:8080/",
          "height": 35
        }
      },
      "source": [
        "# Обучающие данные\n",
        "# Приводим к одному размеру, создаем бинарные метки.\n",
        "train_generator = train_datagen.flow_from_directory(train_dir, \n",
        "                                                    target_size=(150, 150), \n",
        "                                                    batch_size=20, \n",
        "                                                    class_mode='binary')"
      ],
      "execution_count": 29,
      "outputs": [
        {
          "output_type": "stream",
          "text": [
            "Found 2000 images belonging to 2 classes.\n"
          ],
          "name": "stdout"
        }
      ]
    },
    {
      "cell_type": "code",
      "metadata": {
        "id": "nuHCaPh_HMht",
        "colab_type": "code",
        "outputId": "4857299c-647c-4fa9-fffd-47a4b4f13161",
        "colab": {
          "base_uri": "https://localhost:8080/",
          "height": 35
        }
      },
      "source": [
        "# Валидационные данные\n",
        "# Приводим к одному размеру, создаем бинарные метки.\n",
        "validation_generator = test_datagen.flow_from_directory(validation_dir, \n",
        "                                                    target_size=(150, 150), \n",
        "                                                    batch_size=20, \n",
        "                                                    class_mode='binary')"
      ],
      "execution_count": 30,
      "outputs": [
        {
          "output_type": "stream",
          "text": [
            "Found 1000 images belonging to 2 classes.\n"
          ],
          "name": "stdout"
        }
      ]
    },
    {
      "cell_type": "code",
      "metadata": {
        "id": "bOrWxL4vafw5",
        "colab_type": "code",
        "colab": {
          "base_uri": "https://localhost:8080/",
          "height": 35
        },
        "outputId": "15941899-f8a2-4b0f-b593-0d3dca9a542d"
      },
      "source": [
        "# Тестовые данные\n",
        "# Приводим к одному размеру, создаем бинарные метки.\n",
        "test_generator = test_datagen.flow_from_directory(test_dir, \n",
        "                                                    target_size=(150, 150), \n",
        "                                                    batch_size=20, \n",
        "                                                    class_mode='binary')"
      ],
      "execution_count": 31,
      "outputs": [
        {
          "output_type": "stream",
          "text": [
            "Found 1000 images belonging to 2 classes.\n"
          ],
          "name": "stdout"
        }
      ]
    },
    {
      "cell_type": "code",
      "metadata": {
        "id": "o3OTQFQuJ0jp",
        "colab_type": "code",
        "outputId": "6ee0c07b-cc96-4cb5-fa58-394ccfb18029",
        "colab": {
          "base_uri": "https://localhost:8080/",
          "height": 1000
        }
      },
      "source": [
        "# Обучаем модель при помощи генератора пакетов\n",
        "history = model.fit_generator(train_generator, \n",
        "                              steps_per_epoch=100, \n",
        "                              epochs=30, \n",
        "                              validation_data=validation_generator, \n",
        "                              validation_steps=50)"
      ],
      "execution_count": 32,
      "outputs": [
        {
          "output_type": "stream",
          "text": [
            "WARNING:tensorflow:From /usr/local/lib/python3.6/dist-packages/keras/backend/tensorflow_backend.py:1033: The name tf.assign_add is deprecated. Please use tf.compat.v1.assign_add instead.\n",
            "\n",
            "WARNING:tensorflow:From /usr/local/lib/python3.6/dist-packages/keras/backend/tensorflow_backend.py:1020: The name tf.assign is deprecated. Please use tf.compat.v1.assign instead.\n",
            "\n",
            "WARNING:tensorflow:From /usr/local/lib/python3.6/dist-packages/keras/backend/tensorflow_backend.py:3005: The name tf.Session is deprecated. Please use tf.compat.v1.Session instead.\n",
            "\n",
            "Epoch 1/30\n",
            "WARNING:tensorflow:From /usr/local/lib/python3.6/dist-packages/keras/backend/tensorflow_backend.py:190: The name tf.get_default_session is deprecated. Please use tf.compat.v1.get_default_session instead.\n",
            "\n",
            "WARNING:tensorflow:From /usr/local/lib/python3.6/dist-packages/keras/backend/tensorflow_backend.py:197: The name tf.ConfigProto is deprecated. Please use tf.compat.v1.ConfigProto instead.\n",
            "\n",
            "WARNING:tensorflow:From /usr/local/lib/python3.6/dist-packages/keras/backend/tensorflow_backend.py:207: The name tf.global_variables is deprecated. Please use tf.compat.v1.global_variables instead.\n",
            "\n",
            "WARNING:tensorflow:From /usr/local/lib/python3.6/dist-packages/keras/backend/tensorflow_backend.py:216: The name tf.is_variable_initialized is deprecated. Please use tf.compat.v1.is_variable_initialized instead.\n",
            "\n",
            "WARNING:tensorflow:From /usr/local/lib/python3.6/dist-packages/keras/backend/tensorflow_backend.py:223: The name tf.variables_initializer is deprecated. Please use tf.compat.v1.variables_initializer instead.\n",
            "\n",
            "100/100 [==============================] - 859s 9s/step - loss: 0.6929 - acc: 0.5215 - val_loss: 0.6819 - val_acc: 0.5680\n",
            "Epoch 2/30\n",
            "100/100 [==============================] - 18s 178ms/step - loss: 0.6843 - acc: 0.5520 - val_loss: 0.6719 - val_acc: 0.5620\n",
            "Epoch 3/30\n",
            "100/100 [==============================] - 18s 175ms/step - loss: 0.6690 - acc: 0.5765 - val_loss: 0.6729 - val_acc: 0.5570\n",
            "Epoch 4/30\n",
            "100/100 [==============================] - 18s 179ms/step - loss: 0.6612 - acc: 0.5895 - val_loss: 0.6578 - val_acc: 0.5960\n",
            "Epoch 5/30\n",
            "100/100 [==============================] - 18s 180ms/step - loss: 0.6445 - acc: 0.6175 - val_loss: 0.6268 - val_acc: 0.6400\n",
            "Epoch 6/30\n",
            "100/100 [==============================] - 18s 180ms/step - loss: 0.6395 - acc: 0.6175 - val_loss: 0.6143 - val_acc: 0.6470\n",
            "Epoch 7/30\n",
            "100/100 [==============================] - 18s 178ms/step - loss: 0.6190 - acc: 0.6525 - val_loss: 0.6017 - val_acc: 0.6640\n",
            "Epoch 8/30\n",
            "100/100 [==============================] - 18s 177ms/step - loss: 0.6079 - acc: 0.6650 - val_loss: 0.5980 - val_acc: 0.6730\n",
            "Epoch 9/30\n",
            "100/100 [==============================] - 18s 177ms/step - loss: 0.5991 - acc: 0.6820 - val_loss: 0.5765 - val_acc: 0.6940\n",
            "Epoch 10/30\n",
            "100/100 [==============================] - 18s 178ms/step - loss: 0.6014 - acc: 0.6735 - val_loss: 0.6097 - val_acc: 0.6530\n",
            "Epoch 11/30\n",
            "100/100 [==============================] - 18s 177ms/step - loss: 0.5890 - acc: 0.6985 - val_loss: 0.6076 - val_acc: 0.6560\n",
            "Epoch 12/30\n",
            "100/100 [==============================] - 18s 179ms/step - loss: 0.5807 - acc: 0.6885 - val_loss: 0.5697 - val_acc: 0.6920\n",
            "Epoch 13/30\n",
            "100/100 [==============================] - 18s 177ms/step - loss: 0.5820 - acc: 0.6870 - val_loss: 0.6250 - val_acc: 0.6390\n",
            "Epoch 14/30\n",
            "100/100 [==============================] - 18s 176ms/step - loss: 0.5769 - acc: 0.6840 - val_loss: 0.5425 - val_acc: 0.7230\n",
            "Epoch 15/30\n",
            "100/100 [==============================] - 18s 181ms/step - loss: 0.5661 - acc: 0.7140 - val_loss: 0.5313 - val_acc: 0.7240\n",
            "Epoch 16/30\n",
            "100/100 [==============================] - 18s 178ms/step - loss: 0.5622 - acc: 0.7125 - val_loss: 0.5646 - val_acc: 0.7090\n",
            "Epoch 17/30\n",
            "100/100 [==============================] - 18s 177ms/step - loss: 0.5613 - acc: 0.7115 - val_loss: 0.5253 - val_acc: 0.7260\n",
            "Epoch 18/30\n",
            "100/100 [==============================] - 18s 176ms/step - loss: 0.5617 - acc: 0.7005 - val_loss: 0.5317 - val_acc: 0.7360\n",
            "Epoch 19/30\n",
            "100/100 [==============================] - 18s 176ms/step - loss: 0.5488 - acc: 0.7195 - val_loss: 0.5069 - val_acc: 0.7400\n",
            "Epoch 20/30\n",
            "100/100 [==============================] - 18s 175ms/step - loss: 0.5472 - acc: 0.7110 - val_loss: 0.5231 - val_acc: 0.7420\n",
            "Epoch 21/30\n",
            "100/100 [==============================] - 18s 176ms/step - loss: 0.5397 - acc: 0.7270 - val_loss: 0.5117 - val_acc: 0.7520\n",
            "Epoch 22/30\n",
            "100/100 [==============================] - 18s 178ms/step - loss: 0.5474 - acc: 0.7295 - val_loss: 0.5003 - val_acc: 0.7570\n",
            "Epoch 23/30\n",
            "100/100 [==============================] - 18s 178ms/step - loss: 0.5309 - acc: 0.7395 - val_loss: 0.5305 - val_acc: 0.7360\n",
            "Epoch 24/30\n",
            "100/100 [==============================] - 18s 176ms/step - loss: 0.5225 - acc: 0.7400 - val_loss: 0.4985 - val_acc: 0.7570\n",
            "Epoch 25/30\n",
            "100/100 [==============================] - 18s 176ms/step - loss: 0.5253 - acc: 0.7285 - val_loss: 0.5187 - val_acc: 0.7500\n",
            "Epoch 26/30\n",
            "100/100 [==============================] - 18s 176ms/step - loss: 0.5366 - acc: 0.7315 - val_loss: 0.5466 - val_acc: 0.7180\n",
            "Epoch 27/30\n",
            "100/100 [==============================] - 18s 176ms/step - loss: 0.5158 - acc: 0.7545 - val_loss: 0.5004 - val_acc: 0.7580\n",
            "Epoch 28/30\n",
            "100/100 [==============================] - 18s 175ms/step - loss: 0.5141 - acc: 0.7450 - val_loss: 0.5860 - val_acc: 0.6890\n",
            "Epoch 29/30\n",
            "100/100 [==============================] - 18s 176ms/step - loss: 0.5144 - acc: 0.7465 - val_loss: 0.4981 - val_acc: 0.7610\n",
            "Epoch 30/30\n",
            "100/100 [==============================] - 18s 176ms/step - loss: 0.5231 - acc: 0.7365 - val_loss: 0.4849 - val_acc: 0.7670\n"
          ],
          "name": "stdout"
        }
      ]
    },
    {
      "cell_type": "code",
      "metadata": {
        "id": "5HkeFFbNaset",
        "colab_type": "code",
        "colab": {
          "base_uri": "https://localhost:8080/",
          "height": 35
        },
        "outputId": "12bbcb1e-d24b-41a4-8d40-6f472ed2c7d1"
      },
      "source": [
        "test_loss, test_acc = model.evaluate_generator(test_generator, steps=50)\n",
        "print('test acc:', test_acc)"
      ],
      "execution_count": 33,
      "outputs": [
        {
          "output_type": "stream",
          "text": [
            "test acc: 0.7439999997615814\n"
          ],
          "name": "stdout"
        }
      ]
    },
    {
      "cell_type": "code",
      "metadata": {
        "id": "jdXs7d5HKX6e",
        "colab_type": "code",
        "colab": {}
      },
      "source": [
        "# Сохранение модели\n",
        "# model.save('cats_and_dogs_small_1.h5')"
      ],
      "execution_count": 0,
      "outputs": []
    },
    {
      "cell_type": "code",
      "metadata": {
        "id": "FK-GVxNDK8Zl",
        "colab_type": "code",
        "colab": {}
      },
      "source": [
        "from keras.applications import VGG16"
      ],
      "execution_count": 0,
      "outputs": []
    },
    {
      "cell_type": "code",
      "metadata": {
        "id": "Tmy9Jp0Ch2XD",
        "colab_type": "code",
        "colab": {
          "base_uri": "https://localhost:8080/",
          "height": 890
        },
        "outputId": "e0369837-713b-403e-fd08-a4676029d283"
      },
      "source": [
        "# Загружаем сеть VGG16 без части, которая отвечает за классификацию\n",
        "base_model = VGG16(weights ='imagenet', \n",
        "                  include_top=False, \n",
        "                  input_shape=(150, 150, 3))\n",
        "\n",
        "base_model.summary()"
      ],
      "execution_count": 38,
      "outputs": [
        {
          "output_type": "stream",
          "text": [
            "Downloading data from https://github.com/fchollet/deep-learning-models/releases/download/v0.1/vgg16_weights_tf_dim_ordering_tf_kernels_notop.h5\n",
            "58892288/58889256 [==============================] - 2s 0us/step\n",
            "Model: \"vgg16\"\n",
            "_________________________________________________________________\n",
            "Layer (type)                 Output Shape              Param #   \n",
            "=================================================================\n",
            "input_1 (InputLayer)         (None, 150, 150, 3)       0         \n",
            "_________________________________________________________________\n",
            "block1_conv1 (Conv2D)        (None, 150, 150, 64)      1792      \n",
            "_________________________________________________________________\n",
            "block1_conv2 (Conv2D)        (None, 150, 150, 64)      36928     \n",
            "_________________________________________________________________\n",
            "block1_pool (MaxPooling2D)   (None, 75, 75, 64)        0         \n",
            "_________________________________________________________________\n",
            "block2_conv1 (Conv2D)        (None, 75, 75, 128)       73856     \n",
            "_________________________________________________________________\n",
            "block2_conv2 (Conv2D)        (None, 75, 75, 128)       147584    \n",
            "_________________________________________________________________\n",
            "block2_pool (MaxPooling2D)   (None, 37, 37, 128)       0         \n",
            "_________________________________________________________________\n",
            "block3_conv1 (Conv2D)        (None, 37, 37, 256)       295168    \n",
            "_________________________________________________________________\n",
            "block3_conv2 (Conv2D)        (None, 37, 37, 256)       590080    \n",
            "_________________________________________________________________\n",
            "block3_conv3 (Conv2D)        (None, 37, 37, 256)       590080    \n",
            "_________________________________________________________________\n",
            "block3_pool (MaxPooling2D)   (None, 18, 18, 256)       0         \n",
            "_________________________________________________________________\n",
            "block4_conv1 (Conv2D)        (None, 18, 18, 512)       1180160   \n",
            "_________________________________________________________________\n",
            "block4_conv2 (Conv2D)        (None, 18, 18, 512)       2359808   \n",
            "_________________________________________________________________\n",
            "block4_conv3 (Conv2D)        (None, 18, 18, 512)       2359808   \n",
            "_________________________________________________________________\n",
            "block4_pool (MaxPooling2D)   (None, 9, 9, 512)         0         \n",
            "_________________________________________________________________\n",
            "block5_conv1 (Conv2D)        (None, 9, 9, 512)         2359808   \n",
            "_________________________________________________________________\n",
            "block5_conv2 (Conv2D)        (None, 9, 9, 512)         2359808   \n",
            "_________________________________________________________________\n",
            "block5_conv3 (Conv2D)        (None, 9, 9, 512)         2359808   \n",
            "_________________________________________________________________\n",
            "block5_pool (MaxPooling2D)   (None, 4, 4, 512)         0         \n",
            "=================================================================\n",
            "Total params: 14,714,688\n",
            "Trainable params: 14,714,688\n",
            "Non-trainable params: 0\n",
            "_________________________________________________________________\n"
          ],
          "name": "stdout"
        }
      ]
    },
    {
      "cell_type": "code",
      "metadata": {
        "id": "PZNFPI2NiAWn",
        "colab_type": "code",
        "colab": {}
      },
      "source": [
        "# Добавляем полносвязный классификатор поверх сверточной основы.\n",
        "model = models.Sequential() \n",
        "model.add(base_model) \n",
        "model.add(layers.Flatten()) \n",
        "model.add(layers.Dense(256, activation='relu')) \n",
        "model.add(layers.Dense(1, activation='sigmoid'))"
      ],
      "execution_count": 0,
      "outputs": []
    },
    {
      "cell_type": "code",
      "metadata": {
        "id": "htIFugBwkjno",
        "colab_type": "code",
        "colab": {
          "base_uri": "https://localhost:8080/",
          "height": 308
        },
        "outputId": "5b1e26c1-ede3-4380-9ffa-ac274d577e66"
      },
      "source": [
        "model.summary()"
      ],
      "execution_count": 40,
      "outputs": [
        {
          "output_type": "stream",
          "text": [
            "Model: \"sequential_2\"\n",
            "_________________________________________________________________\n",
            "Layer (type)                 Output Shape              Param #   \n",
            "=================================================================\n",
            "vgg16 (Model)                (None, 4, 4, 512)         14714688  \n",
            "_________________________________________________________________\n",
            "flatten_2 (Flatten)          (None, 8192)              0         \n",
            "_________________________________________________________________\n",
            "dense_3 (Dense)              (None, 256)               2097408   \n",
            "_________________________________________________________________\n",
            "dense_4 (Dense)              (None, 1)                 257       \n",
            "=================================================================\n",
            "Total params: 16,812,353\n",
            "Trainable params: 16,812,353\n",
            "Non-trainable params: 0\n",
            "_________________________________________________________________\n"
          ],
          "name": "stdout"
        }
      ]
    },
    {
      "cell_type": "code",
      "metadata": {
        "id": "KiDdaqltkq2j",
        "colab_type": "code",
        "colab": {}
      },
      "source": [
        "# Замораживаем сеть VGG16 перед компиляцией\n",
        "base_model.trainable = False"
      ],
      "execution_count": 0,
      "outputs": []
    },
    {
      "cell_type": "code",
      "metadata": {
        "id": "HNLfHgLylHs2",
        "colab_type": "code",
        "colab": {}
      },
      "source": [
        "# Компиляция\n",
        "model.compile(loss='binary_crossentropy', \n",
        "              optimizer=optimizers.RMSprop(lr=1e-4), \n",
        "              metrics=['acc'])"
      ],
      "execution_count": 0,
      "outputs": []
    },
    {
      "cell_type": "code",
      "metadata": {
        "id": "QmexmSoQl42y",
        "colab_type": "code",
        "colab": {
          "base_uri": "https://localhost:8080/",
          "height": 1000
        },
        "outputId": "1a1219e8-4a77-4ce6-a4a0-d37a0928ffcc"
      },
      "source": [
        "history = model.fit_generator(train_generator, \n",
        "                              steps_per_epoch=100, \n",
        "                              epochs=30, \n",
        "                              validation_data=validation_generator, \n",
        "                              validation_steps=50)"
      ],
      "execution_count": 43,
      "outputs": [
        {
          "output_type": "stream",
          "text": [
            "Epoch 1/30\n",
            "100/100 [==============================] - 21s 206ms/step - loss: 0.5361 - acc: 0.7245 - val_loss: 0.3069 - val_acc: 0.8690\n",
            "Epoch 2/30\n",
            "100/100 [==============================] - 18s 182ms/step - loss: 0.4169 - acc: 0.8050 - val_loss: 0.2725 - val_acc: 0.8870\n",
            "Epoch 3/30\n",
            "100/100 [==============================] - 18s 182ms/step - loss: 0.3963 - acc: 0.8145 - val_loss: 0.2768 - val_acc: 0.8850\n",
            "Epoch 4/30\n",
            "100/100 [==============================] - 18s 182ms/step - loss: 0.3595 - acc: 0.8415 - val_loss: 0.3179 - val_acc: 0.8610\n",
            "Epoch 5/30\n",
            "100/100 [==============================] - 19s 185ms/step - loss: 0.3523 - acc: 0.8455 - val_loss: 0.2601 - val_acc: 0.8920\n",
            "Epoch 6/30\n",
            "100/100 [==============================] - 18s 181ms/step - loss: 0.3497 - acc: 0.8475 - val_loss: 0.3118 - val_acc: 0.8620\n",
            "Epoch 7/30\n",
            "100/100 [==============================] - 18s 183ms/step - loss: 0.3396 - acc: 0.8405 - val_loss: 0.2567 - val_acc: 0.8940\n",
            "Epoch 8/30\n",
            "100/100 [==============================] - 18s 182ms/step - loss: 0.3314 - acc: 0.8450 - val_loss: 0.2552 - val_acc: 0.8880\n",
            "Epoch 9/30\n",
            "100/100 [==============================] - 18s 182ms/step - loss: 0.3352 - acc: 0.8560 - val_loss: 0.2462 - val_acc: 0.9030\n",
            "Epoch 10/30\n",
            "100/100 [==============================] - 18s 183ms/step - loss: 0.3093 - acc: 0.8650 - val_loss: 0.2611 - val_acc: 0.8930\n",
            "Epoch 11/30\n",
            "100/100 [==============================] - 18s 181ms/step - loss: 0.3179 - acc: 0.8640 - val_loss: 0.2395 - val_acc: 0.9010\n",
            "Epoch 12/30\n",
            "100/100 [==============================] - 18s 182ms/step - loss: 0.3059 - acc: 0.8670 - val_loss: 0.2383 - val_acc: 0.9010\n",
            "Epoch 13/30\n",
            "100/100 [==============================] - 18s 182ms/step - loss: 0.2932 - acc: 0.8720 - val_loss: 0.2361 - val_acc: 0.9060\n",
            "Epoch 14/30\n",
            "100/100 [==============================] - 18s 182ms/step - loss: 0.2890 - acc: 0.8680 - val_loss: 0.2856 - val_acc: 0.8810\n",
            "Epoch 15/30\n",
            "100/100 [==============================] - 18s 182ms/step - loss: 0.2722 - acc: 0.8810 - val_loss: 0.3098 - val_acc: 0.8780\n",
            "Epoch 16/30\n",
            "100/100 [==============================] - 18s 181ms/step - loss: 0.2834 - acc: 0.8830 - val_loss: 0.2439 - val_acc: 0.9050\n",
            "Epoch 17/30\n",
            "100/100 [==============================] - 18s 183ms/step - loss: 0.3012 - acc: 0.8685 - val_loss: 0.2457 - val_acc: 0.9010\n",
            "Epoch 18/30\n",
            "100/100 [==============================] - 18s 183ms/step - loss: 0.2600 - acc: 0.8905 - val_loss: 0.2470 - val_acc: 0.8980\n",
            "Epoch 19/30\n",
            "100/100 [==============================] - 18s 183ms/step - loss: 0.2835 - acc: 0.8720 - val_loss: 0.2393 - val_acc: 0.9090\n",
            "Epoch 20/30\n",
            "100/100 [==============================] - 18s 178ms/step - loss: 0.2804 - acc: 0.8785 - val_loss: 0.2779 - val_acc: 0.8870\n",
            "Epoch 21/30\n",
            "100/100 [==============================] - 18s 183ms/step - loss: 0.2757 - acc: 0.8755 - val_loss: 0.2454 - val_acc: 0.8980\n",
            "Epoch 22/30\n",
            "100/100 [==============================] - 19s 190ms/step - loss: 0.2615 - acc: 0.8855 - val_loss: 0.2380 - val_acc: 0.9000\n",
            "Epoch 23/30\n",
            "100/100 [==============================] - 19s 187ms/step - loss: 0.2624 - acc: 0.8880 - val_loss: 0.2491 - val_acc: 0.9010\n",
            "Epoch 24/30\n",
            "100/100 [==============================] - 18s 184ms/step - loss: 0.2608 - acc: 0.8910 - val_loss: 0.2495 - val_acc: 0.9010\n",
            "Epoch 25/30\n",
            "100/100 [==============================] - 18s 184ms/step - loss: 0.2730 - acc: 0.8745 - val_loss: 0.2408 - val_acc: 0.9020\n",
            "Epoch 26/30\n",
            "100/100 [==============================] - 18s 185ms/step - loss: 0.2618 - acc: 0.8915 - val_loss: 0.2560 - val_acc: 0.9060\n",
            "Epoch 27/30\n",
            "100/100 [==============================] - 19s 187ms/step - loss: 0.2668 - acc: 0.8805 - val_loss: 0.2469 - val_acc: 0.9070\n",
            "Epoch 28/30\n",
            "100/100 [==============================] - 19s 186ms/step - loss: 0.2595 - acc: 0.8925 - val_loss: 0.2493 - val_acc: 0.9020\n",
            "Epoch 29/30\n",
            "100/100 [==============================] - 19s 186ms/step - loss: 0.2548 - acc: 0.8835 - val_loss: 0.3156 - val_acc: 0.8770\n",
            "Epoch 30/30\n",
            "100/100 [==============================] - 18s 183ms/step - loss: 0.2560 - acc: 0.8885 - val_loss: 0.2442 - val_acc: 0.8940\n"
          ],
          "name": "stdout"
        }
      ]
    },
    {
      "cell_type": "code",
      "metadata": {
        "id": "XnBVkVj9mDFd",
        "colab_type": "code",
        "colab": {
          "base_uri": "https://localhost:8080/",
          "height": 35
        },
        "outputId": "2d55e69a-afb9-425d-b582-de611a645751"
      },
      "source": [
        "test_loss, test_acc = model.evaluate_generator(test_generator, steps=50)\n",
        "print('test acc:', test_acc)"
      ],
      "execution_count": 44,
      "outputs": [
        {
          "output_type": "stream",
          "text": [
            "test acc: 0.8939999938011169\n"
          ],
          "name": "stdout"
        }
      ]
    },
    {
      "cell_type": "markdown",
      "metadata": {
        "id": "TfGfsGwG1UTy",
        "colab_type": "text"
      },
      "source": [
        "Использование предварительно обученной нейронной сети значительно улучшило качество на тесте по сравнению с моделью с нуля, хотя для обучения использовалось всего 2000 образцов. Таким образом, этот способ построения модели оказался очень эффективным."
      ]
    },
    {
      "cell_type": "code",
      "metadata": {
        "id": "NDaL51pooG-L",
        "colab_type": "code",
        "colab": {}
      },
      "source": [
        ""
      ],
      "execution_count": 0,
      "outputs": []
    },
    {
      "cell_type": "code",
      "metadata": {
        "id": "HVGmAgcK1yd3",
        "colab_type": "code",
        "colab": {}
      },
      "source": [
        ""
      ],
      "execution_count": 0,
      "outputs": []
    }
  ]
}
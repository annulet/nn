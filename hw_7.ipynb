{
  "nbformat": 4,
  "nbformat_minor": 0,
  "metadata": {
    "colab": {
      "name": "hw_7.ipynb",
      "provenance": [],
      "authorship_tag": "ABX9TyNxrdcB4mZfVLiYIBye8dui",
      "include_colab_link": true
    },
    "kernelspec": {
      "name": "python3",
      "display_name": "Python 3"
    },
    "accelerator": "GPU"
  },
  "cells": [
    {
      "cell_type": "markdown",
      "metadata": {
        "id": "view-in-github",
        "colab_type": "text"
      },
      "source": [
        "<a href=\"https://colab.research.google.com/github/annulet/nn/blob/master/hw_7.ipynb\" target=\"_parent\"><img src=\"https://colab.research.google.com/assets/colab-badge.svg\" alt=\"Open In Colab\"/></a>"
      ]
    },
    {
      "cell_type": "markdown",
      "metadata": {
        "id": "IYRw-xf05HYP",
        "colab_type": "text"
      },
      "source": [
        "Практическое задание   \n",
        "\n",
        "Попробуйте обучить нейронную сеть LSTM на любом другом датасете. Опишите в комментарии к уроку - какой результата вы добились от нейросети? Что помогло вам улучшить ее точность?   \n",
        "\n",
        "*Попробуйте на numpy реализовать нейронную сеть архитектуры LSTM   \n",
        "\n",
        "*Предложите свои варианты решения проблемы исчезающего градиента в RNN"
      ]
    },
    {
      "cell_type": "code",
      "metadata": {
        "id": "WjVjHpx75F2C",
        "colab_type": "code",
        "colab": {}
      },
      "source": [
        "import copy, numpy as np\n",
        "np.random.seed(0)"
      ],
      "execution_count": 0,
      "outputs": []
    },
    {
      "cell_type": "code",
      "metadata": {
        "id": "eJhZo6YL5ISe",
        "colab_type": "code",
        "outputId": "9a0a3456-8afd-4191-cf0b-127a37fd0388",
        "colab": {
          "base_uri": "https://localhost:8080/",
          "height": 35
        }
      },
      "source": [
        "from __future__ import print_function\n",
        "import tensorflow as tf\n",
        "\n",
        "from keras.preprocessing import sequence\n",
        "from keras.models import Sequential\n",
        "from keras.layers import Dense, Embedding\n",
        "from keras.layers import LSTM\n",
        "from tensorflow.keras.utils import to_categorical\n",
        "from keras.datasets import reuters"
      ],
      "execution_count": 2,
      "outputs": [
        {
          "output_type": "stream",
          "text": [
            "Using TensorFlow backend.\n"
          ],
          "name": "stderr"
        }
      ]
    },
    {
      "cell_type": "markdown",
      "metadata": {
        "id": "tBnTt5096dGp",
        "colab_type": "text"
      },
      "source": [
        "Импортируем датасет Reuters newswire topics classification"
      ]
    },
    {
      "cell_type": "code",
      "metadata": {
        "id": "kESGq9MG5rIo",
        "colab_type": "code",
        "colab": {}
      },
      "source": [
        "(x_train, y_train), (x_test, y_test) = reuters.load_data(path=\"reuters.npz\",\n",
        "                                                         num_words=None,\n",
        "                                                         skip_top=0,\n",
        "                                                         maxlen=None,\n",
        "                                                         test_split=0.2,\n",
        "                                                         seed=113,\n",
        "                                                         start_char=1,\n",
        "                                                         oov_char=2,\n",
        "                                                         index_from=3)"
      ],
      "execution_count": 0,
      "outputs": []
    },
    {
      "cell_type": "code",
      "metadata": {
        "id": "Kcg-bx1h6ozf",
        "colab_type": "code",
        "outputId": "a9a8231a-2945-42e9-d9d9-51c223791673",
        "colab": {
          "base_uri": "https://localhost:8080/",
          "height": 35
        }
      },
      "source": [
        "x_train.shape, y_train.shape"
      ],
      "execution_count": 4,
      "outputs": [
        {
          "output_type": "execute_result",
          "data": {
            "text/plain": [
              "((8982,), (8982,))"
            ]
          },
          "metadata": {
            "tags": []
          },
          "execution_count": 4
        }
      ]
    },
    {
      "cell_type": "code",
      "metadata": {
        "id": "S5EVVaZr6671",
        "colab_type": "code",
        "outputId": "5085f371-d5f1-4ea9-cd76-32a11940551e",
        "colab": {
          "base_uri": "https://localhost:8080/",
          "height": 35
        }
      },
      "source": [
        "x_test.shape, y_test.shape"
      ],
      "execution_count": 5,
      "outputs": [
        {
          "output_type": "execute_result",
          "data": {
            "text/plain": [
              "((2246,), (2246,))"
            ]
          },
          "metadata": {
            "tags": []
          },
          "execution_count": 5
        }
      ]
    },
    {
      "cell_type": "code",
      "metadata": {
        "id": "tRUK4LJA7GHg",
        "colab_type": "code",
        "colab": {}
      },
      "source": [
        "max_features = 30980\n",
        "batch_size = 256"
      ],
      "execution_count": 0,
      "outputs": []
    },
    {
      "cell_type": "code",
      "metadata": {
        "id": "7awlcoov7Kk7",
        "colab_type": "code",
        "outputId": "c06332c5-cfce-4596-efc5-c39c47cc968a",
        "colab": {
          "base_uri": "https://localhost:8080/",
          "height": 35
        }
      },
      "source": [
        "x_train = tf.keras.preprocessing.sequence.pad_sequences(\n",
        "    x_train, \n",
        "    padding='post', \n",
        "    maxlen=256\n",
        "    )\n",
        "x_test = tf.keras.preprocessing.sequence.pad_sequences(\n",
        "    x_test, \n",
        "    padding='post', \n",
        "    maxlen=256)\n",
        "\n",
        "len(x_train[0]), len(x_train[1]), len(x_train[10])"
      ],
      "execution_count": 7,
      "outputs": [
        {
          "output_type": "execute_result",
          "data": {
            "text/plain": [
              "(256, 256, 256)"
            ]
          },
          "metadata": {
            "tags": []
          },
          "execution_count": 7
        }
      ]
    },
    {
      "cell_type": "code",
      "metadata": {
        "id": "j8C2jcslLTUZ",
        "colab_type": "code",
        "colab": {}
      },
      "source": [
        "y_train = to_categorical(y_train, 46) \n",
        "y_test = to_categorical(y_test, 46) "
      ],
      "execution_count": 0,
      "outputs": []
    },
    {
      "cell_type": "code",
      "metadata": {
        "id": "4CLYvSu07vSm",
        "colab_type": "code",
        "outputId": "44878bb5-4334-4852-ba44-0fad41aa0a1e",
        "colab": {
          "base_uri": "https://localhost:8080/",
          "height": 35
        }
      },
      "source": [
        "model = tf.keras.Sequential()\n",
        "model.add(tf.keras.layers.Embedding(max_features, 64))\n",
        "model.add(tf.keras.layers.LSTM(64, dropout=0.2, recurrent_dropout=0.2))\n",
        "model.add(tf.keras.layers.Dense(46, activation='softmax'))"
      ],
      "execution_count": 9,
      "outputs": [
        {
          "output_type": "stream",
          "text": [
            "WARNING:tensorflow:Layer lstm will not use cuDNN kernel since it doesn't meet the cuDNN kernel criteria. It will use generic GPU kernel as fallback when running on GPU\n"
          ],
          "name": "stdout"
        }
      ]
    },
    {
      "cell_type": "code",
      "metadata": {
        "id": "kqgCjlXG7zGk",
        "colab_type": "code",
        "colab": {}
      },
      "source": [
        "model.compile(loss='categorical_crossentropy',\n",
        "              optimizer='adam',\n",
        "              metrics=['accuracy'])"
      ],
      "execution_count": 0,
      "outputs": []
    },
    {
      "cell_type": "code",
      "metadata": {
        "id": "LLvb7cb38XXu",
        "colab_type": "code",
        "outputId": "a573fb32-581f-4caf-b3f5-4c47eb0bbf19",
        "colab": {
          "base_uri": "https://localhost:8080/",
          "height": 581
        }
      },
      "source": [
        "model.fit(x_train, y_train,\n",
        "          batch_size=batch_size,\n",
        "          epochs=15,\n",
        "          validation_data=(x_test, y_test))"
      ],
      "execution_count": 11,
      "outputs": [
        {
          "output_type": "stream",
          "text": [
            "Epoch 1/15\n",
            "36/36 [==============================] - 32s 886ms/step - loss: 2.9856 - accuracy: 0.3153 - val_loss: 2.4500 - val_accuracy: 0.3727\n",
            "Epoch 2/15\n",
            "36/36 [==============================] - 32s 886ms/step - loss: 2.4100 - accuracy: 0.3491 - val_loss: 2.3949 - val_accuracy: 0.3620\n",
            "Epoch 3/15\n",
            "36/36 [==============================] - 32s 886ms/step - loss: 2.3828 - accuracy: 0.3548 - val_loss: 2.3843 - val_accuracy: 0.3722\n",
            "Epoch 4/15\n",
            "36/36 [==============================] - 32s 885ms/step - loss: 2.3625 - accuracy: 0.3587 - val_loss: 2.3452 - val_accuracy: 0.3709\n",
            "Epoch 5/15\n",
            "36/36 [==============================] - 32s 881ms/step - loss: 2.2741 - accuracy: 0.3782 - val_loss: 2.2939 - val_accuracy: 0.3731\n",
            "Epoch 6/15\n",
            "36/36 [==============================] - 32s 880ms/step - loss: 2.1145 - accuracy: 0.4364 - val_loss: 2.0987 - val_accuracy: 0.4880\n",
            "Epoch 7/15\n",
            "36/36 [==============================] - 32s 886ms/step - loss: 2.1191 - accuracy: 0.4561 - val_loss: 2.1611 - val_accuracy: 0.3998\n",
            "Epoch 8/15\n",
            "36/36 [==============================] - 32s 876ms/step - loss: 2.1217 - accuracy: 0.4440 - val_loss: 2.3459 - val_accuracy: 0.3615\n",
            "Epoch 9/15\n",
            "36/36 [==============================] - 32s 886ms/step - loss: 2.1658 - accuracy: 0.4394 - val_loss: 2.0854 - val_accuracy: 0.4826\n",
            "Epoch 10/15\n",
            "36/36 [==============================] - 32s 885ms/step - loss: 2.0617 - accuracy: 0.4806 - val_loss: 2.0531 - val_accuracy: 0.4902\n",
            "Epoch 11/15\n",
            "36/36 [==============================] - 32s 887ms/step - loss: 2.0676 - accuracy: 0.4830 - val_loss: 2.0585 - val_accuracy: 0.4880\n",
            "Epoch 12/15\n",
            "36/36 [==============================] - 32s 889ms/step - loss: 2.2034 - accuracy: 0.4192 - val_loss: 2.2146 - val_accuracy: 0.3798\n",
            "Epoch 13/15\n",
            "36/36 [==============================] - 32s 894ms/step - loss: 2.1508 - accuracy: 0.3811 - val_loss: 2.1525 - val_accuracy: 0.3980\n",
            "Epoch 14/15\n",
            "36/36 [==============================] - 32s 898ms/step - loss: 2.1187 - accuracy: 0.3999 - val_loss: 2.1374 - val_accuracy: 0.3989\n",
            "Epoch 15/15\n",
            "36/36 [==============================] - 32s 898ms/step - loss: 2.1144 - accuracy: 0.4051 - val_loss: 2.1268 - val_accuracy: 0.4047\n"
          ],
          "name": "stdout"
        },
        {
          "output_type": "execute_result",
          "data": {
            "text/plain": [
              "<tensorflow.python.keras.callbacks.History at 0x7f727eca6b70>"
            ]
          },
          "metadata": {
            "tags": []
          },
          "execution_count": 11
        }
      ]
    },
    {
      "cell_type": "code",
      "metadata": {
        "id": "Ipmd24GFAnV0",
        "colab_type": "code",
        "colab": {
          "base_uri": "https://localhost:8080/",
          "height": 54
        },
        "outputId": "018c8b53-3664-4b16-98d0-4d606a8fa9bd"
      },
      "source": [
        "model.evaluate(x_test, y_test)"
      ],
      "execution_count": 12,
      "outputs": [
        {
          "output_type": "stream",
          "text": [
            "71/71 [==============================] - 4s 61ms/step - loss: 2.1232 - accuracy: 0.4047\n"
          ],
          "name": "stdout"
        },
        {
          "output_type": "execute_result",
          "data": {
            "text/plain": [
              "[2.1231777667999268, 0.4047195017337799]"
            ]
          },
          "metadata": {
            "tags": []
          },
          "execution_count": 12
        }
      ]
    },
    {
      "cell_type": "markdown",
      "metadata": {
        "id": "p6ekAFHA0TUa",
        "colab_type": "text"
      },
      "source": [
        "Результат не очень хороший, но классифицировать 46 классов - сложная задача. Скорее всего эта сеть не подходит под задачую"
      ]
    },
    {
      "cell_type": "code",
      "metadata": {
        "id": "9DTvS7QWo2LZ",
        "colab_type": "code",
        "colab": {}
      },
      "source": [
        ""
      ],
      "execution_count": 0,
      "outputs": []
    }
  ]
}